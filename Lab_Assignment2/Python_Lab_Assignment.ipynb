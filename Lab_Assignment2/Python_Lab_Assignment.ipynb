{
 "cells": [
  {
   "cell_type": "markdown",
   "metadata": {},
   "source": [
    "# PyCity Schools Analysis\n",
    "\n",
    "* As a whole, schools with higher budgets, did not yield better test results. By contrast, schools with higher spending per student actually (\\\\$645 - 675) underperformed compared to schools with smaller budgets (\\\\$585 per student).\n",
    "\n",
    "* As a whole, smaller and medium sized schools dramatically out-performed large sized schools on passing math performances (89-91% passing vs 67%).\n",
    "\n",
    "* As a whole, charter schools out-performed the public district schools across all metrics. However, more analysis will be required to glean if the effect is due to school practices or the fact that charter schools tend to serve smaller student populations per school. \n",
    "---"
   ]
  },
  {
   "cell_type": "markdown",
   "metadata": {},
   "source": [
    "**Note:**\n",
    "Instructions have been included for each segment. You do not have to follow them exactly, but they are included to help you think through the steps."
   ]
  },
  {
   "cell_type": "code",
   "execution_count": 133,
   "metadata": {
    "ExecuteTime": {
     "end_time": "2022-08-06T06:08:31.925112Z",
     "start_time": "2022-08-06T06:08:29.337754Z"
    }
   },
   "outputs": [
    {
     "data": {
      "text/html": [
       "<div>\n",
       "<style scoped>\n",
       "    .dataframe tbody tr th:only-of-type {\n",
       "        vertical-align: middle;\n",
       "    }\n",
       "\n",
       "    .dataframe tbody tr th {\n",
       "        vertical-align: top;\n",
       "    }\n",
       "\n",
       "    .dataframe thead th {\n",
       "        text-align: right;\n",
       "    }\n",
       "</style>\n",
       "<table border=\"1\" class=\"dataframe\">\n",
       "  <thead>\n",
       "    <tr style=\"text-align: right;\">\n",
       "      <th></th>\n",
       "      <th>Student ID</th>\n",
       "      <th>student_name</th>\n",
       "      <th>gender</th>\n",
       "      <th>grade</th>\n",
       "      <th>school_name</th>\n",
       "      <th>reading_score</th>\n",
       "      <th>math_score</th>\n",
       "      <th>School ID</th>\n",
       "      <th>type</th>\n",
       "      <th>size</th>\n",
       "      <th>budget</th>\n",
       "    </tr>\n",
       "  </thead>\n",
       "  <tbody>\n",
       "    <tr>\n",
       "      <th>0</th>\n",
       "      <td>0</td>\n",
       "      <td>Paul Bradley</td>\n",
       "      <td>M</td>\n",
       "      <td>9th</td>\n",
       "      <td>Huang High School</td>\n",
       "      <td>66</td>\n",
       "      <td>79</td>\n",
       "      <td>0</td>\n",
       "      <td>District</td>\n",
       "      <td>2917</td>\n",
       "      <td>1910635</td>\n",
       "    </tr>\n",
       "    <tr>\n",
       "      <th>1</th>\n",
       "      <td>1</td>\n",
       "      <td>Victor Smith</td>\n",
       "      <td>M</td>\n",
       "      <td>12th</td>\n",
       "      <td>Huang High School</td>\n",
       "      <td>94</td>\n",
       "      <td>61</td>\n",
       "      <td>0</td>\n",
       "      <td>District</td>\n",
       "      <td>2917</td>\n",
       "      <td>1910635</td>\n",
       "    </tr>\n",
       "    <tr>\n",
       "      <th>2</th>\n",
       "      <td>2</td>\n",
       "      <td>Kevin Rodriguez</td>\n",
       "      <td>M</td>\n",
       "      <td>12th</td>\n",
       "      <td>Huang High School</td>\n",
       "      <td>90</td>\n",
       "      <td>60</td>\n",
       "      <td>0</td>\n",
       "      <td>District</td>\n",
       "      <td>2917</td>\n",
       "      <td>1910635</td>\n",
       "    </tr>\n",
       "    <tr>\n",
       "      <th>3</th>\n",
       "      <td>3</td>\n",
       "      <td>Dr. Richard Scott</td>\n",
       "      <td>M</td>\n",
       "      <td>12th</td>\n",
       "      <td>Huang High School</td>\n",
       "      <td>67</td>\n",
       "      <td>58</td>\n",
       "      <td>0</td>\n",
       "      <td>District</td>\n",
       "      <td>2917</td>\n",
       "      <td>1910635</td>\n",
       "    </tr>\n",
       "    <tr>\n",
       "      <th>4</th>\n",
       "      <td>4</td>\n",
       "      <td>Bonnie Ray</td>\n",
       "      <td>F</td>\n",
       "      <td>9th</td>\n",
       "      <td>Huang High School</td>\n",
       "      <td>97</td>\n",
       "      <td>84</td>\n",
       "      <td>0</td>\n",
       "      <td>District</td>\n",
       "      <td>2917</td>\n",
       "      <td>1910635</td>\n",
       "    </tr>\n",
       "  </tbody>\n",
       "</table>\n",
       "</div>"
      ],
      "text/plain": [
       "   Student ID       student_name gender grade        school_name  \\\n",
       "0           0       Paul Bradley      M   9th  Huang High School   \n",
       "1           1       Victor Smith      M  12th  Huang High School   \n",
       "2           2    Kevin Rodriguez      M  12th  Huang High School   \n",
       "3           3  Dr. Richard Scott      M  12th  Huang High School   \n",
       "4           4         Bonnie Ray      F   9th  Huang High School   \n",
       "\n",
       "   reading_score  math_score  School ID      type  size   budget  \n",
       "0             66          79          0  District  2917  1910635  \n",
       "1             94          61          0  District  2917  1910635  \n",
       "2             90          60          0  District  2917  1910635  \n",
       "3             67          58          0  District  2917  1910635  \n",
       "4             97          84          0  District  2917  1910635  "
      ]
     },
     "execution_count": 133,
     "metadata": {},
     "output_type": "execute_result"
    }
   ],
   "source": [
    "# Dependencies and Setup\n",
    "import pandas as pd\n",
    "import numpy as np\n",
    "\n",
    "# File to Load (Remember to Change These)\n",
    "school_data_to_load = \"data/schools_complete.csv\"\n",
    "student_data_to_load = \"data/students_complete.csv\"\n",
    "\n",
    "# Read School and Student Data File and store into Pandas Data Frames\n",
    "school_data = pd.read_csv(school_data_to_load)\n",
    "student_data = pd.read_csv(student_data_to_load)\n",
    "\n",
    "# Combine the data into a single dataset\n",
    "school_data_complete = pd.merge(student_data, school_data, how=\"left\", on=[\"school_name\", \"school_name\"])\n",
    "school_data_complete.head()\n",
    "\n",
    "# school_data_complete.count()"
   ]
  },
  {
   "cell_type": "markdown",
   "metadata": {},
   "source": [
    "## District Summary\n",
    "\n",
    "* Calculate the total number of schools\n",
    "\n",
    "* Calculate the total number of students\n",
    "\n",
    "* Calculate the total budget\n",
    "\n",
    "* Calculate the average math score \n",
    "\n",
    "* Calculate the average reading score\n",
    "\n",
    "* Calculate the overall passing rate (overall average score), i.e. (avg. math score + avg. reading score)/2\n",
    "\n",
    "* Calculate the percentage of students with a passing math score (70 or greater)\n",
    "\n",
    "* Calculate the percentage of students with a passing reading score (70 or greater)\n",
    "\n",
    "* Create a dataframe to hold the above results\n",
    "\n",
    "* Optional: give the displayed data cleaner formatting"
   ]
  },
  {
   "cell_type": "code",
   "execution_count": 134,
   "metadata": {},
   "outputs": [],
   "source": [
    "# Create a District Summary\n",
    "\n",
    "\n"
   ]
  },
  {
   "cell_type": "code",
   "execution_count": 135,
   "metadata": {},
   "outputs": [
    {
     "data": {
      "text/plain": [
       "15"
      ]
     },
     "execution_count": 135,
     "metadata": {},
     "output_type": "execute_result"
    }
   ],
   "source": [
    "# Total number of schools\n",
    "\n",
    "tschools = school_data_complete['school_name'].nunique()\n",
    "tschools\n"
   ]
  },
  {
   "cell_type": "code",
   "execution_count": 136,
   "metadata": {},
   "outputs": [
    {
     "data": {
      "text/plain": [
       "39170"
      ]
     },
     "execution_count": 136,
     "metadata": {},
     "output_type": "execute_result"
    }
   ],
   "source": [
    "# Total number of students\n",
    "\n",
    "tstudents = school_data_complete['Student ID'].nunique()\n",
    "tstudents\n"
   ]
  },
  {
   "cell_type": "code",
   "execution_count": 137,
   "metadata": {},
   "outputs": [
    {
     "data": {
      "text/plain": [
       "24649428"
      ]
     },
     "execution_count": 137,
     "metadata": {},
     "output_type": "execute_result"
    }
   ],
   "source": [
    "# Total budget\n",
    "\n",
    "tbudget = school_data[\"budget\"].sum()\n",
    "tbudget\n"
   ]
  },
  {
   "cell_type": "code",
   "execution_count": 138,
   "metadata": {},
   "outputs": [
    {
     "data": {
      "text/plain": [
       "78.98537145774827"
      ]
     },
     "execution_count": 138,
     "metadata": {},
     "output_type": "execute_result"
    }
   ],
   "source": [
    "# Average math score\n",
    "\n",
    "mathmean = school_data_complete[\"math_score\"].mean()\n",
    "mathmean\n"
   ]
  },
  {
   "cell_type": "code",
   "execution_count": 139,
   "metadata": {},
   "outputs": [
    {
     "data": {
      "text/plain": [
       "81.87784018381414"
      ]
     },
     "execution_count": 139,
     "metadata": {},
     "output_type": "execute_result"
    }
   ],
   "source": [
    "# Average reading score\n",
    "\n",
    "readmean = school_data_complete[\"reading_score\"].mean()\n",
    "readmean\n"
   ]
  },
  {
   "cell_type": "code",
   "execution_count": 140,
   "metadata": {},
   "outputs": [
    {
     "data": {
      "text/plain": [
       "80.43160582078121"
      ]
     },
     "execution_count": 140,
     "metadata": {},
     "output_type": "execute_result"
    }
   ],
   "source": [
    "# Overall average score\n",
    "\n",
    "allmean = (mathmean+readmean)/2\n",
    "allmean\n"
   ]
  },
  {
   "cell_type": "code",
   "execution_count": 141,
   "metadata": {},
   "outputs": [
    {
     "data": {
      "text/plain": [
       "74.9808526933878"
      ]
     },
     "execution_count": 141,
     "metadata": {},
     "output_type": "execute_result"
    }
   ],
   "source": [
    "# Percentage of passing math (70 or greater)\n",
    "\n",
    "passmath = len(school_data_complete[school_data_complete[\"math_score\"] >= 70])\n",
    "\n",
    "passmath\n",
    "\n",
    "percpassmath = passmath/tstudents *100\n",
    "percpassmath"
   ]
  },
  {
   "cell_type": "code",
   "execution_count": 142,
   "metadata": {},
   "outputs": [
    {
     "data": {
      "text/plain": [
       "85.80546336482001"
      ]
     },
     "execution_count": 142,
     "metadata": {},
     "output_type": "execute_result"
    }
   ],
   "source": [
    "#percentage of passing reading score (70 or greater)\n",
    "\n",
    "passread = len(school_data_complete[school_data_complete[\"reading_score\"] >= 70])\n",
    "\n",
    "percpassread = passread / tstudents * 100\n",
    "percpassread"
   ]
  },
  {
   "cell_type": "code",
   "execution_count": 143,
   "metadata": {},
   "outputs": [
    {
     "data": {
      "text/html": [
       "<div>\n",
       "<style scoped>\n",
       "    .dataframe tbody tr th:only-of-type {\n",
       "        vertical-align: middle;\n",
       "    }\n",
       "\n",
       "    .dataframe tbody tr th {\n",
       "        vertical-align: top;\n",
       "    }\n",
       "\n",
       "    .dataframe thead th {\n",
       "        text-align: right;\n",
       "    }\n",
       "</style>\n",
       "<table border=\"1\" class=\"dataframe\">\n",
       "  <thead>\n",
       "    <tr style=\"text-align: right;\">\n",
       "      <th></th>\n",
       "      <th>Total Schools</th>\n",
       "      <th>Total Students</th>\n",
       "      <th>Total Budget</th>\n",
       "      <th>Average Math Score</th>\n",
       "      <th>Average Reading Score</th>\n",
       "      <th>Overall Score</th>\n",
       "      <th>Percentage Passing Math</th>\n",
       "      <th>Percentage Passing Reading</th>\n",
       "    </tr>\n",
       "  </thead>\n",
       "  <tbody>\n",
       "    <tr>\n",
       "      <th>0</th>\n",
       "      <td>15</td>\n",
       "      <td>39170</td>\n",
       "      <td>24649428</td>\n",
       "      <td>78.985371</td>\n",
       "      <td>81.87784</td>\n",
       "      <td>80.431606</td>\n",
       "      <td>74.980853</td>\n",
       "      <td>85.805463</td>\n",
       "    </tr>\n",
       "  </tbody>\n",
       "</table>\n",
       "</div>"
      ],
      "text/plain": [
       "   Total Schools  Total Students  Total Budget  Average Math Score  \\\n",
       "0             15           39170      24649428           78.985371   \n",
       "\n",
       "   Average Reading Score  Overall Score  Percentage Passing Math  \\\n",
       "0               81.87784      80.431606                74.980853   \n",
       "\n",
       "   Percentage Passing Reading  \n",
       "0                   85.805463  "
      ]
     },
     "execution_count": 143,
     "metadata": {},
     "output_type": "execute_result"
    }
   ],
   "source": [
    "fulldf = pd.DataFrame({\n",
    "    'Total Schools': [tschools],\n",
    "    'Total Students': [tstudents],\n",
    "    'Total Budget': [tbudget],\n",
    "    'Average Math Score': [mathmean],\n",
    "    'Average Reading Score': [readmean],\n",
    "    'Overall Score':[allmean],\n",
    "    'Percentage Passing Math': [percpassmath],\n",
    "    'Percentage Passing Reading': [percpassread],\n",
    "})\n",
    "fulldf"
   ]
  },
  {
   "cell_type": "markdown",
   "metadata": {},
   "source": [
    "## School Summary"
   ]
  },
  {
   "cell_type": "markdown",
   "metadata": {},
   "source": [
    "* Create an overview table that summarizes key metrics about each school, including:\n",
    "  * School Name\n",
    "  * School Type\n",
    "  * Total Students\n",
    "  * Total School Budget\n",
    "  * Per Student Budget\n",
    "  * Average Math Score\n",
    "  * Average Reading Score\n",
    "  * % Passing Math\n",
    "  * % Passing Reading\n",
    "  * Overall Passing Rate (Average of the above two)\n",
    "  \n",
    "* Create a dataframe to hold the above results"
   ]
  },
  {
   "cell_type": "markdown",
   "metadata": {},
   "source": [
    "### Top Performing Schools (By Passing Rate)"
   ]
  },
  {
   "cell_type": "markdown",
   "metadata": {},
   "source": [
    "* Sort and display the top five schools in overall passing rate"
   ]
  },
  {
   "cell_type": "code",
   "execution_count": 144,
   "metadata": {},
   "outputs": [],
   "source": [
    "#new df by schools\n",
    "grouped_school_df = school_data_complete.groupby([\"school_name\"])\n"
   ]
  },
  {
   "cell_type": "code",
   "execution_count": 145,
   "metadata": {},
   "outputs": [
    {
     "data": {
      "text/plain": [
       "school_name\n",
       "Bailey High School       District\n",
       "Cabrera High School       Charter\n",
       "Figueroa High School     District\n",
       "Ford High School         District\n",
       "Griffin High School       Charter\n",
       "Hernandez High School    District\n",
       "Holden High School        Charter\n",
       "Huang High School        District\n",
       "Johnson High School      District\n",
       "Pena High School          Charter\n",
       "Rodriguez High School    District\n",
       "Shelton High School       Charter\n",
       "Thomas High School        Charter\n",
       "Wilson High School        Charter\n",
       "Wright High School        Charter\n",
       "Name: type, dtype: object"
      ]
     },
     "execution_count": 145,
     "metadata": {},
     "output_type": "execute_result"
    }
   ],
   "source": [
    "#school type\n",
    "schooltype = grouped_school_df[\"type\"].first()\n",
    "schooltype"
   ]
  },
  {
   "cell_type": "code",
   "execution_count": 146,
   "metadata": {},
   "outputs": [
    {
     "data": {
      "text/plain": [
       "school_name\n",
       "Bailey High School       4976\n",
       "Cabrera High School      1858\n",
       "Figueroa High School     2949\n",
       "Ford High School         2739\n",
       "Griffin High School      1468\n",
       "Hernandez High School    4635\n",
       "Holden High School        427\n",
       "Huang High School        2917\n",
       "Johnson High School      4761\n",
       "Pena High School          962\n",
       "Rodriguez High School    3999\n",
       "Shelton High School      1761\n",
       "Thomas High School       1635\n",
       "Wilson High School       2283\n",
       "Wright High School       1800\n",
       "Name: Student ID, dtype: int64"
      ]
     },
     "execution_count": 146,
     "metadata": {},
     "output_type": "execute_result"
    }
   ],
   "source": [
    "#total students\n",
    "totalStudents = grouped_school_df[\"Student ID\"].count()\n",
    "totalStudents"
   ]
  },
  {
   "cell_type": "code",
   "execution_count": 147,
   "metadata": {
    "scrolled": true
   },
   "outputs": [
    {
     "data": {
      "text/plain": [
       "school_name\n",
       "Bailey High School       3124928\n",
       "Cabrera High School      1081356\n",
       "Figueroa High School     1884411\n",
       "Ford High School         1763916\n",
       "Griffin High School       917500\n",
       "Hernandez High School    3022020\n",
       "Holden High School        248087\n",
       "Huang High School        1910635\n",
       "Johnson High School      3094650\n",
       "Pena High School          585858\n",
       "Rodriguez High School    2547363\n",
       "Shelton High School      1056600\n",
       "Thomas High School       1043130\n",
       "Wilson High School       1319574\n",
       "Wright High School       1049400\n",
       "Name: budget, dtype: int64"
      ]
     },
     "execution_count": 147,
     "metadata": {},
     "output_type": "execute_result"
    }
   ],
   "source": [
    "# Calculate total school budget\n",
    "totalschoolbudget = grouped_school_df[\"budget\"].first()\n",
    "totalschoolbudget"
   ]
  },
  {
   "cell_type": "code",
   "execution_count": 148,
   "metadata": {},
   "outputs": [
    {
     "data": {
      "text/plain": [
       "school_name\n",
       "Bailey High School       628.0\n",
       "Cabrera High School      582.0\n",
       "Figueroa High School     639.0\n",
       "Ford High School         644.0\n",
       "Griffin High School      625.0\n",
       "Hernandez High School    652.0\n",
       "Holden High School       581.0\n",
       "Huang High School        655.0\n",
       "Johnson High School      650.0\n",
       "Pena High School         609.0\n",
       "Rodriguez High School    637.0\n",
       "Shelton High School      600.0\n",
       "Thomas High School       638.0\n",
       "Wilson High School       578.0\n",
       "Wright High School       583.0\n",
       "dtype: float64"
      ]
     },
     "execution_count": 148,
     "metadata": {},
     "output_type": "execute_result"
    }
   ],
   "source": [
    "# Calculate per student budget\n",
    "perStudentBudget = totalschoolbudget / totalStudents\n",
    "\n",
    "perStudentBudget\n"
   ]
  },
  {
   "cell_type": "code",
   "execution_count": 149,
   "metadata": {},
   "outputs": [
    {
     "data": {
      "text/plain": [
       "school_name\n",
       "Bailey High School       77.048432\n",
       "Cabrera High School      83.061895\n",
       "Figueroa High School     76.711767\n",
       "Ford High School         77.102592\n",
       "Griffin High School      83.351499\n",
       "Hernandez High School    77.289752\n",
       "Holden High School       83.803279\n",
       "Huang High School        76.629414\n",
       "Johnson High School      77.072464\n",
       "Pena High School         83.839917\n",
       "Rodriguez High School    76.842711\n",
       "Shelton High School      83.359455\n",
       "Thomas High School       83.418349\n",
       "Wilson High School       83.274201\n",
       "Wright High School       83.682222\n",
       "Name: math_score, dtype: float64"
      ]
     },
     "execution_count": 149,
     "metadata": {},
     "output_type": "execute_result"
    }
   ],
   "source": [
    "# Cacluate the avg math and reading score\n",
    "\n",
    "avgMathScore = grouped_school_df[\"math_score\"].mean()\n",
    "avgMathScore\n",
    "\n"
   ]
  },
  {
   "cell_type": "code",
   "execution_count": 150,
   "metadata": {},
   "outputs": [
    {
     "data": {
      "text/plain": [
       "school_name\n",
       "Bailey High School       81.033963\n",
       "Cabrera High School      83.975780\n",
       "Figueroa High School     81.158020\n",
       "Ford High School         80.746258\n",
       "Griffin High School      83.816757\n",
       "Hernandez High School    80.934412\n",
       "Holden High School       83.814988\n",
       "Huang High School        81.182722\n",
       "Johnson High School      80.966394\n",
       "Pena High School         84.044699\n",
       "Rodriguez High School    80.744686\n",
       "Shelton High School      83.725724\n",
       "Thomas High School       83.848930\n",
       "Wilson High School       83.989488\n",
       "Wright High School       83.955000\n",
       "Name: reading_score, dtype: float64"
      ]
     },
     "execution_count": 150,
     "metadata": {},
     "output_type": "execute_result"
    }
   ],
   "source": [
    "#calculate reading score\n",
    "\n",
    "avgReadingScore = grouped_school_df[\"reading_score\"].mean()\n",
    "avgReadingScore"
   ]
  },
  {
   "cell_type": "markdown",
   "metadata": {},
   "source": [
    "#### Find the passing rate for math and reading (above 70 points)"
   ]
  },
  {
   "cell_type": "code",
   "execution_count": 151,
   "metadata": {},
   "outputs": [
    {
     "data": {
      "text/plain": [
       "school_name\n",
       "Bailey High School       66.680064\n",
       "Cabrera High School      94.133477\n",
       "Figueroa High School     65.988471\n",
       "Ford High School         68.309602\n",
       "Griffin High School      93.392371\n",
       "Hernandez High School    66.752967\n",
       "Holden High School       92.505855\n",
       "Huang High School        65.683922\n",
       "Johnson High School      66.057551\n",
       "Pena High School         94.594595\n",
       "Rodriguez High School    66.366592\n",
       "Shelton High School      93.867121\n",
       "Thomas High School       93.272171\n",
       "Wilson High School       93.867718\n",
       "Wright High School       93.333333\n",
       "Name: math_score, dtype: float64"
      ]
     },
     "execution_count": 151,
     "metadata": {},
     "output_type": "execute_result"
    }
   ],
   "source": [
    "# Find the total counts of math result\n",
    "MathCount = grouped_school_df[\"math_score\"].count()\n",
    "MathCount\n",
    "\n",
    "# Find the counts for math result in each school that pass 70 or higher\n",
    "PassingMath = school_data_complete[school_data_complete[\"math_score\"] >= 70].groupby([\"school_name\"])[\"math_score\"].count()\n",
    "\n",
    "# Calculate the math passing rate\n",
    "\n",
    "percPassingMath = PassingMath / MathCount * 100\n",
    "percPassingMath\n"
   ]
  },
  {
   "cell_type": "code",
   "execution_count": 152,
   "metadata": {},
   "outputs": [
    {
     "data": {
      "text/plain": [
       "school_name\n",
       "Bailey High School       81.933280\n",
       "Cabrera High School      97.039828\n",
       "Figueroa High School     80.739234\n",
       "Ford High School         79.299014\n",
       "Griffin High School      97.138965\n",
       "Hernandez High School    80.862999\n",
       "Holden High School       96.252927\n",
       "Huang High School        81.316421\n",
       "Johnson High School      81.222432\n",
       "Pena High School         95.945946\n",
       "Rodriguez High School    80.220055\n",
       "Shelton High School      95.854628\n",
       "Thomas High School       97.308869\n",
       "Wilson High School       96.539641\n",
       "Wright High School       96.611111\n",
       "Name: reading_score, dtype: float64"
      ]
     },
     "execution_count": 152,
     "metadata": {},
     "output_type": "execute_result"
    }
   ],
   "source": [
    "# Find the total counts of read result\n",
    "ReadCount = grouped_school_df[\"reading_score\"].count()\n",
    "ReadCount\n",
    "\n",
    "# Find the counts for read result in each school that pass 70 or higher\n",
    "passingRead = school_data_complete[school_data_complete[\"reading_score\"] >= 70].groupby([\"school_name\"])[\"reading_score\"].count()\n",
    "\n",
    "\n",
    "# Calculate the read passing rate\n",
    "percPassingReading = passingRead / ReadCount * 100\n",
    "percPassingReading\n"
   ]
  },
  {
   "cell_type": "code",
   "execution_count": 153,
   "metadata": {},
   "outputs": [
    {
     "data": {
      "text/plain": [
       "school_name\n",
       "Bailey High School       74.306672\n",
       "Cabrera High School      95.586652\n",
       "Figueroa High School     73.363852\n",
       "Ford High School         73.804308\n",
       "Griffin High School      95.265668\n",
       "Hernandez High School    73.807983\n",
       "Holden High School       94.379391\n",
       "Huang High School        73.500171\n",
       "Johnson High School      73.639992\n",
       "Pena High School         95.270270\n",
       "Rodriguez High School    73.293323\n",
       "Shelton High School      94.860875\n",
       "Thomas High School       95.290520\n",
       "Wilson High School       95.203679\n",
       "Wright High School       94.972222\n",
       "dtype: float64"
      ]
     },
     "execution_count": 153,
     "metadata": {},
     "output_type": "execute_result"
    }
   ],
   "source": [
    "# Calculate the overall passing rate (average of the math and reading passing rate)\n",
    "\n",
    "percOverallPassingRate = (percPassingMath + percPassingReading) / 2\n",
    "percOverallPassingRate"
   ]
  },
  {
   "cell_type": "code",
   "execution_count": 154,
   "metadata": {},
   "outputs": [
    {
     "data": {
      "text/html": [
       "<div>\n",
       "<style scoped>\n",
       "    .dataframe tbody tr th:only-of-type {\n",
       "        vertical-align: middle;\n",
       "    }\n",
       "\n",
       "    .dataframe tbody tr th {\n",
       "        vertical-align: top;\n",
       "    }\n",
       "\n",
       "    .dataframe thead th {\n",
       "        text-align: right;\n",
       "    }\n",
       "</style>\n",
       "<table border=\"1\" class=\"dataframe\">\n",
       "  <thead>\n",
       "    <tr style=\"text-align: right;\">\n",
       "      <th></th>\n",
       "      <th>School Type</th>\n",
       "      <th>Total Students</th>\n",
       "      <th>Total School Budget</th>\n",
       "      <th>Per Student Budget</th>\n",
       "      <th>Average Math Score</th>\n",
       "      <th>Average Reading Score</th>\n",
       "      <th>Percentage Passing Math</th>\n",
       "      <th>Percentage Passing Reading</th>\n",
       "      <th>Percentage Overall Passing Rate</th>\n",
       "    </tr>\n",
       "    <tr>\n",
       "      <th>school_name</th>\n",
       "      <th></th>\n",
       "      <th></th>\n",
       "      <th></th>\n",
       "      <th></th>\n",
       "      <th></th>\n",
       "      <th></th>\n",
       "      <th></th>\n",
       "      <th></th>\n",
       "      <th></th>\n",
       "    </tr>\n",
       "  </thead>\n",
       "  <tbody>\n",
       "    <tr>\n",
       "      <th>Bailey High School</th>\n",
       "      <td>District</td>\n",
       "      <td>4976</td>\n",
       "      <td>3124928</td>\n",
       "      <td>628.0</td>\n",
       "      <td>77.048432</td>\n",
       "      <td>81.033963</td>\n",
       "      <td>66.680064</td>\n",
       "      <td>81.933280</td>\n",
       "      <td>74.306672</td>\n",
       "    </tr>\n",
       "    <tr>\n",
       "      <th>Cabrera High School</th>\n",
       "      <td>Charter</td>\n",
       "      <td>1858</td>\n",
       "      <td>1081356</td>\n",
       "      <td>582.0</td>\n",
       "      <td>83.061895</td>\n",
       "      <td>83.975780</td>\n",
       "      <td>94.133477</td>\n",
       "      <td>97.039828</td>\n",
       "      <td>95.586652</td>\n",
       "    </tr>\n",
       "    <tr>\n",
       "      <th>Figueroa High School</th>\n",
       "      <td>District</td>\n",
       "      <td>2949</td>\n",
       "      <td>1884411</td>\n",
       "      <td>639.0</td>\n",
       "      <td>76.711767</td>\n",
       "      <td>81.158020</td>\n",
       "      <td>65.988471</td>\n",
       "      <td>80.739234</td>\n",
       "      <td>73.363852</td>\n",
       "    </tr>\n",
       "    <tr>\n",
       "      <th>Ford High School</th>\n",
       "      <td>District</td>\n",
       "      <td>2739</td>\n",
       "      <td>1763916</td>\n",
       "      <td>644.0</td>\n",
       "      <td>77.102592</td>\n",
       "      <td>80.746258</td>\n",
       "      <td>68.309602</td>\n",
       "      <td>79.299014</td>\n",
       "      <td>73.804308</td>\n",
       "    </tr>\n",
       "    <tr>\n",
       "      <th>Griffin High School</th>\n",
       "      <td>Charter</td>\n",
       "      <td>1468</td>\n",
       "      <td>917500</td>\n",
       "      <td>625.0</td>\n",
       "      <td>83.351499</td>\n",
       "      <td>83.816757</td>\n",
       "      <td>93.392371</td>\n",
       "      <td>97.138965</td>\n",
       "      <td>95.265668</td>\n",
       "    </tr>\n",
       "    <tr>\n",
       "      <th>Hernandez High School</th>\n",
       "      <td>District</td>\n",
       "      <td>4635</td>\n",
       "      <td>3022020</td>\n",
       "      <td>652.0</td>\n",
       "      <td>77.289752</td>\n",
       "      <td>80.934412</td>\n",
       "      <td>66.752967</td>\n",
       "      <td>80.862999</td>\n",
       "      <td>73.807983</td>\n",
       "    </tr>\n",
       "    <tr>\n",
       "      <th>Holden High School</th>\n",
       "      <td>Charter</td>\n",
       "      <td>427</td>\n",
       "      <td>248087</td>\n",
       "      <td>581.0</td>\n",
       "      <td>83.803279</td>\n",
       "      <td>83.814988</td>\n",
       "      <td>92.505855</td>\n",
       "      <td>96.252927</td>\n",
       "      <td>94.379391</td>\n",
       "    </tr>\n",
       "    <tr>\n",
       "      <th>Huang High School</th>\n",
       "      <td>District</td>\n",
       "      <td>2917</td>\n",
       "      <td>1910635</td>\n",
       "      <td>655.0</td>\n",
       "      <td>76.629414</td>\n",
       "      <td>81.182722</td>\n",
       "      <td>65.683922</td>\n",
       "      <td>81.316421</td>\n",
       "      <td>73.500171</td>\n",
       "    </tr>\n",
       "    <tr>\n",
       "      <th>Johnson High School</th>\n",
       "      <td>District</td>\n",
       "      <td>4761</td>\n",
       "      <td>3094650</td>\n",
       "      <td>650.0</td>\n",
       "      <td>77.072464</td>\n",
       "      <td>80.966394</td>\n",
       "      <td>66.057551</td>\n",
       "      <td>81.222432</td>\n",
       "      <td>73.639992</td>\n",
       "    </tr>\n",
       "    <tr>\n",
       "      <th>Pena High School</th>\n",
       "      <td>Charter</td>\n",
       "      <td>962</td>\n",
       "      <td>585858</td>\n",
       "      <td>609.0</td>\n",
       "      <td>83.839917</td>\n",
       "      <td>84.044699</td>\n",
       "      <td>94.594595</td>\n",
       "      <td>95.945946</td>\n",
       "      <td>95.270270</td>\n",
       "    </tr>\n",
       "    <tr>\n",
       "      <th>Rodriguez High School</th>\n",
       "      <td>District</td>\n",
       "      <td>3999</td>\n",
       "      <td>2547363</td>\n",
       "      <td>637.0</td>\n",
       "      <td>76.842711</td>\n",
       "      <td>80.744686</td>\n",
       "      <td>66.366592</td>\n",
       "      <td>80.220055</td>\n",
       "      <td>73.293323</td>\n",
       "    </tr>\n",
       "    <tr>\n",
       "      <th>Shelton High School</th>\n",
       "      <td>Charter</td>\n",
       "      <td>1761</td>\n",
       "      <td>1056600</td>\n",
       "      <td>600.0</td>\n",
       "      <td>83.359455</td>\n",
       "      <td>83.725724</td>\n",
       "      <td>93.867121</td>\n",
       "      <td>95.854628</td>\n",
       "      <td>94.860875</td>\n",
       "    </tr>\n",
       "    <tr>\n",
       "      <th>Thomas High School</th>\n",
       "      <td>Charter</td>\n",
       "      <td>1635</td>\n",
       "      <td>1043130</td>\n",
       "      <td>638.0</td>\n",
       "      <td>83.418349</td>\n",
       "      <td>83.848930</td>\n",
       "      <td>93.272171</td>\n",
       "      <td>97.308869</td>\n",
       "      <td>95.290520</td>\n",
       "    </tr>\n",
       "    <tr>\n",
       "      <th>Wilson High School</th>\n",
       "      <td>Charter</td>\n",
       "      <td>2283</td>\n",
       "      <td>1319574</td>\n",
       "      <td>578.0</td>\n",
       "      <td>83.274201</td>\n",
       "      <td>83.989488</td>\n",
       "      <td>93.867718</td>\n",
       "      <td>96.539641</td>\n",
       "      <td>95.203679</td>\n",
       "    </tr>\n",
       "    <tr>\n",
       "      <th>Wright High School</th>\n",
       "      <td>Charter</td>\n",
       "      <td>1800</td>\n",
       "      <td>1049400</td>\n",
       "      <td>583.0</td>\n",
       "      <td>83.682222</td>\n",
       "      <td>83.955000</td>\n",
       "      <td>93.333333</td>\n",
       "      <td>96.611111</td>\n",
       "      <td>94.972222</td>\n",
       "    </tr>\n",
       "  </tbody>\n",
       "</table>\n",
       "</div>"
      ],
      "text/plain": [
       "                      School Type  Total Students  Total School Budget  \\\n",
       "school_name                                                              \n",
       "Bailey High School       District            4976              3124928   \n",
       "Cabrera High School       Charter            1858              1081356   \n",
       "Figueroa High School     District            2949              1884411   \n",
       "Ford High School         District            2739              1763916   \n",
       "Griffin High School       Charter            1468               917500   \n",
       "Hernandez High School    District            4635              3022020   \n",
       "Holden High School        Charter             427               248087   \n",
       "Huang High School        District            2917              1910635   \n",
       "Johnson High School      District            4761              3094650   \n",
       "Pena High School          Charter             962               585858   \n",
       "Rodriguez High School    District            3999              2547363   \n",
       "Shelton High School       Charter            1761              1056600   \n",
       "Thomas High School        Charter            1635              1043130   \n",
       "Wilson High School        Charter            2283              1319574   \n",
       "Wright High School        Charter            1800              1049400   \n",
       "\n",
       "                       Per Student Budget  Average Math Score  \\\n",
       "school_name                                                     \n",
       "Bailey High School                  628.0           77.048432   \n",
       "Cabrera High School                 582.0           83.061895   \n",
       "Figueroa High School                639.0           76.711767   \n",
       "Ford High School                    644.0           77.102592   \n",
       "Griffin High School                 625.0           83.351499   \n",
       "Hernandez High School               652.0           77.289752   \n",
       "Holden High School                  581.0           83.803279   \n",
       "Huang High School                   655.0           76.629414   \n",
       "Johnson High School                 650.0           77.072464   \n",
       "Pena High School                    609.0           83.839917   \n",
       "Rodriguez High School               637.0           76.842711   \n",
       "Shelton High School                 600.0           83.359455   \n",
       "Thomas High School                  638.0           83.418349   \n",
       "Wilson High School                  578.0           83.274201   \n",
       "Wright High School                  583.0           83.682222   \n",
       "\n",
       "                       Average Reading Score  Percentage Passing Math  \\\n",
       "school_name                                                             \n",
       "Bailey High School                 81.033963                66.680064   \n",
       "Cabrera High School                83.975780                94.133477   \n",
       "Figueroa High School               81.158020                65.988471   \n",
       "Ford High School                   80.746258                68.309602   \n",
       "Griffin High School                83.816757                93.392371   \n",
       "Hernandez High School              80.934412                66.752967   \n",
       "Holden High School                 83.814988                92.505855   \n",
       "Huang High School                  81.182722                65.683922   \n",
       "Johnson High School                80.966394                66.057551   \n",
       "Pena High School                   84.044699                94.594595   \n",
       "Rodriguez High School              80.744686                66.366592   \n",
       "Shelton High School                83.725724                93.867121   \n",
       "Thomas High School                 83.848930                93.272171   \n",
       "Wilson High School                 83.989488                93.867718   \n",
       "Wright High School                 83.955000                93.333333   \n",
       "\n",
       "                       Percentage Passing Reading  \\\n",
       "school_name                                         \n",
       "Bailey High School                      81.933280   \n",
       "Cabrera High School                     97.039828   \n",
       "Figueroa High School                    80.739234   \n",
       "Ford High School                        79.299014   \n",
       "Griffin High School                     97.138965   \n",
       "Hernandez High School                   80.862999   \n",
       "Holden High School                      96.252927   \n",
       "Huang High School                       81.316421   \n",
       "Johnson High School                     81.222432   \n",
       "Pena High School                        95.945946   \n",
       "Rodriguez High School                   80.220055   \n",
       "Shelton High School                     95.854628   \n",
       "Thomas High School                      97.308869   \n",
       "Wilson High School                      96.539641   \n",
       "Wright High School                      96.611111   \n",
       "\n",
       "                       Percentage Overall Passing Rate  \n",
       "school_name                                             \n",
       "Bailey High School                           74.306672  \n",
       "Cabrera High School                          95.586652  \n",
       "Figueroa High School                         73.363852  \n",
       "Ford High School                             73.804308  \n",
       "Griffin High School                          95.265668  \n",
       "Hernandez High School                        73.807983  \n",
       "Holden High School                           94.379391  \n",
       "Huang High School                            73.500171  \n",
       "Johnson High School                          73.639992  \n",
       "Pena High School                             95.270270  \n",
       "Rodriguez High School                        73.293323  \n",
       "Shelton High School                          94.860875  \n",
       "Thomas High School                           95.290520  \n",
       "Wilson High School                           95.203679  \n",
       "Wright High School                           94.972222  "
      ]
     },
     "execution_count": 154,
     "metadata": {},
     "output_type": "execute_result"
    }
   ],
   "source": [
    "schools_df = pd.DataFrame({\"School Type\": schooltype,\n",
    "      \"Total Students\": totalStudents,\n",
    "      \"Total School Budget\": totalschoolbudget,\n",
    "      \"Per Student Budget\": perStudentBudget,\n",
    "      \"Average Math Score\": avgMathScore,\n",
    "      \"Average Reading Score\": avgReadingScore,\n",
    "      \"Percentage Passing Math\": percPassingMath,\n",
    "      \"Percentage Passing Reading\": percPassingReading,\n",
    "      \"Percentage Overall Passing Rate\": percOverallPassingRate})\n",
    "\n",
    "schools_df"
   ]
  },
  {
   "cell_type": "code",
   "execution_count": 155,
   "metadata": {},
   "outputs": [
    {
     "data": {
      "text/html": [
       "<div>\n",
       "<style scoped>\n",
       "    .dataframe tbody tr th:only-of-type {\n",
       "        vertical-align: middle;\n",
       "    }\n",
       "\n",
       "    .dataframe tbody tr th {\n",
       "        vertical-align: top;\n",
       "    }\n",
       "\n",
       "    .dataframe thead th {\n",
       "        text-align: right;\n",
       "    }\n",
       "</style>\n",
       "<table border=\"1\" class=\"dataframe\">\n",
       "  <thead>\n",
       "    <tr style=\"text-align: right;\">\n",
       "      <th></th>\n",
       "      <th>School Type</th>\n",
       "      <th>Total Students</th>\n",
       "      <th>Total School Budget</th>\n",
       "      <th>Per Student Budget</th>\n",
       "      <th>Average Math Score</th>\n",
       "      <th>Average Reading Score</th>\n",
       "      <th>Percentage Passing Math</th>\n",
       "      <th>Percentage Passing Reading</th>\n",
       "      <th>Percentage Overall Passing Rate</th>\n",
       "    </tr>\n",
       "    <tr>\n",
       "      <th>school_name</th>\n",
       "      <th></th>\n",
       "      <th></th>\n",
       "      <th></th>\n",
       "      <th></th>\n",
       "      <th></th>\n",
       "      <th></th>\n",
       "      <th></th>\n",
       "      <th></th>\n",
       "      <th></th>\n",
       "    </tr>\n",
       "  </thead>\n",
       "  <tbody>\n",
       "    <tr>\n",
       "      <th>Cabrera High School</th>\n",
       "      <td>Charter</td>\n",
       "      <td>1858</td>\n",
       "      <td>1081356</td>\n",
       "      <td>582.0</td>\n",
       "      <td>83.061895</td>\n",
       "      <td>83.975780</td>\n",
       "      <td>94.133477</td>\n",
       "      <td>97.039828</td>\n",
       "      <td>95.586652</td>\n",
       "    </tr>\n",
       "    <tr>\n",
       "      <th>Thomas High School</th>\n",
       "      <td>Charter</td>\n",
       "      <td>1635</td>\n",
       "      <td>1043130</td>\n",
       "      <td>638.0</td>\n",
       "      <td>83.418349</td>\n",
       "      <td>83.848930</td>\n",
       "      <td>93.272171</td>\n",
       "      <td>97.308869</td>\n",
       "      <td>95.290520</td>\n",
       "    </tr>\n",
       "    <tr>\n",
       "      <th>Pena High School</th>\n",
       "      <td>Charter</td>\n",
       "      <td>962</td>\n",
       "      <td>585858</td>\n",
       "      <td>609.0</td>\n",
       "      <td>83.839917</td>\n",
       "      <td>84.044699</td>\n",
       "      <td>94.594595</td>\n",
       "      <td>95.945946</td>\n",
       "      <td>95.270270</td>\n",
       "    </tr>\n",
       "    <tr>\n",
       "      <th>Griffin High School</th>\n",
       "      <td>Charter</td>\n",
       "      <td>1468</td>\n",
       "      <td>917500</td>\n",
       "      <td>625.0</td>\n",
       "      <td>83.351499</td>\n",
       "      <td>83.816757</td>\n",
       "      <td>93.392371</td>\n",
       "      <td>97.138965</td>\n",
       "      <td>95.265668</td>\n",
       "    </tr>\n",
       "    <tr>\n",
       "      <th>Wilson High School</th>\n",
       "      <td>Charter</td>\n",
       "      <td>2283</td>\n",
       "      <td>1319574</td>\n",
       "      <td>578.0</td>\n",
       "      <td>83.274201</td>\n",
       "      <td>83.989488</td>\n",
       "      <td>93.867718</td>\n",
       "      <td>96.539641</td>\n",
       "      <td>95.203679</td>\n",
       "    </tr>\n",
       "  </tbody>\n",
       "</table>\n",
       "</div>"
      ],
      "text/plain": [
       "                    School Type  Total Students  Total School Budget  \\\n",
       "school_name                                                            \n",
       "Cabrera High School     Charter            1858              1081356   \n",
       "Thomas High School      Charter            1635              1043130   \n",
       "Pena High School        Charter             962               585858   \n",
       "Griffin High School     Charter            1468               917500   \n",
       "Wilson High School      Charter            2283              1319574   \n",
       "\n",
       "                     Per Student Budget  Average Math Score  \\\n",
       "school_name                                                   \n",
       "Cabrera High School               582.0           83.061895   \n",
       "Thomas High School                638.0           83.418349   \n",
       "Pena High School                  609.0           83.839917   \n",
       "Griffin High School               625.0           83.351499   \n",
       "Wilson High School                578.0           83.274201   \n",
       "\n",
       "                     Average Reading Score  Percentage Passing Math  \\\n",
       "school_name                                                           \n",
       "Cabrera High School              83.975780                94.133477   \n",
       "Thomas High School               83.848930                93.272171   \n",
       "Pena High School                 84.044699                94.594595   \n",
       "Griffin High School              83.816757                93.392371   \n",
       "Wilson High School               83.989488                93.867718   \n",
       "\n",
       "                     Percentage Passing Reading  \\\n",
       "school_name                                       \n",
       "Cabrera High School                   97.039828   \n",
       "Thomas High School                    97.308869   \n",
       "Pena High School                      95.945946   \n",
       "Griffin High School                   97.138965   \n",
       "Wilson High School                    96.539641   \n",
       "\n",
       "                     Percentage Overall Passing Rate  \n",
       "school_name                                           \n",
       "Cabrera High School                        95.586652  \n",
       "Thomas High School                         95.290520  \n",
       "Pena High School                           95.270270  \n",
       "Griffin High School                        95.265668  \n",
       "Wilson High School                         95.203679  "
      ]
     },
     "execution_count": 155,
     "metadata": {},
     "output_type": "execute_result"
    }
   ],
   "source": [
    "#  Sort and display the top five schools in overall passing rate\n",
    "\n",
    "schools_df.sort_values([\"Percentage Overall Passing Rate\"], ascending=False).head()"
   ]
  },
  {
   "cell_type": "code",
   "execution_count": null,
   "metadata": {},
   "outputs": [],
   "source": []
  },
  {
   "cell_type": "markdown",
   "metadata": {},
   "source": [
    "### Bottom Performing Schools (By Passing Rate)"
   ]
  },
  {
   "cell_type": "markdown",
   "metadata": {},
   "source": [
    "* Sort and display the five worst-performing schools"
   ]
  },
  {
   "cell_type": "code",
   "execution_count": 156,
   "metadata": {},
   "outputs": [
    {
     "data": {
      "text/html": [
       "<div>\n",
       "<style scoped>\n",
       "    .dataframe tbody tr th:only-of-type {\n",
       "        vertical-align: middle;\n",
       "    }\n",
       "\n",
       "    .dataframe tbody tr th {\n",
       "        vertical-align: top;\n",
       "    }\n",
       "\n",
       "    .dataframe thead th {\n",
       "        text-align: right;\n",
       "    }\n",
       "</style>\n",
       "<table border=\"1\" class=\"dataframe\">\n",
       "  <thead>\n",
       "    <tr style=\"text-align: right;\">\n",
       "      <th></th>\n",
       "      <th>School Type</th>\n",
       "      <th>Total Students</th>\n",
       "      <th>Total School Budget</th>\n",
       "      <th>Per Student Budget</th>\n",
       "      <th>Average Math Score</th>\n",
       "      <th>Average Reading Score</th>\n",
       "      <th>Percentage Passing Math</th>\n",
       "      <th>Percentage Passing Reading</th>\n",
       "      <th>Percentage Overall Passing Rate</th>\n",
       "    </tr>\n",
       "    <tr>\n",
       "      <th>school_name</th>\n",
       "      <th></th>\n",
       "      <th></th>\n",
       "      <th></th>\n",
       "      <th></th>\n",
       "      <th></th>\n",
       "      <th></th>\n",
       "      <th></th>\n",
       "      <th></th>\n",
       "      <th></th>\n",
       "    </tr>\n",
       "  </thead>\n",
       "  <tbody>\n",
       "    <tr>\n",
       "      <th>Rodriguez High School</th>\n",
       "      <td>District</td>\n",
       "      <td>3999</td>\n",
       "      <td>2547363</td>\n",
       "      <td>637.0</td>\n",
       "      <td>76.842711</td>\n",
       "      <td>80.744686</td>\n",
       "      <td>66.366592</td>\n",
       "      <td>80.220055</td>\n",
       "      <td>73.293323</td>\n",
       "    </tr>\n",
       "    <tr>\n",
       "      <th>Figueroa High School</th>\n",
       "      <td>District</td>\n",
       "      <td>2949</td>\n",
       "      <td>1884411</td>\n",
       "      <td>639.0</td>\n",
       "      <td>76.711767</td>\n",
       "      <td>81.158020</td>\n",
       "      <td>65.988471</td>\n",
       "      <td>80.739234</td>\n",
       "      <td>73.363852</td>\n",
       "    </tr>\n",
       "    <tr>\n",
       "      <th>Huang High School</th>\n",
       "      <td>District</td>\n",
       "      <td>2917</td>\n",
       "      <td>1910635</td>\n",
       "      <td>655.0</td>\n",
       "      <td>76.629414</td>\n",
       "      <td>81.182722</td>\n",
       "      <td>65.683922</td>\n",
       "      <td>81.316421</td>\n",
       "      <td>73.500171</td>\n",
       "    </tr>\n",
       "    <tr>\n",
       "      <th>Johnson High School</th>\n",
       "      <td>District</td>\n",
       "      <td>4761</td>\n",
       "      <td>3094650</td>\n",
       "      <td>650.0</td>\n",
       "      <td>77.072464</td>\n",
       "      <td>80.966394</td>\n",
       "      <td>66.057551</td>\n",
       "      <td>81.222432</td>\n",
       "      <td>73.639992</td>\n",
       "    </tr>\n",
       "    <tr>\n",
       "      <th>Ford High School</th>\n",
       "      <td>District</td>\n",
       "      <td>2739</td>\n",
       "      <td>1763916</td>\n",
       "      <td>644.0</td>\n",
       "      <td>77.102592</td>\n",
       "      <td>80.746258</td>\n",
       "      <td>68.309602</td>\n",
       "      <td>79.299014</td>\n",
       "      <td>73.804308</td>\n",
       "    </tr>\n",
       "  </tbody>\n",
       "</table>\n",
       "</div>"
      ],
      "text/plain": [
       "                      School Type  Total Students  Total School Budget  \\\n",
       "school_name                                                              \n",
       "Rodriguez High School    District            3999              2547363   \n",
       "Figueroa High School     District            2949              1884411   \n",
       "Huang High School        District            2917              1910635   \n",
       "Johnson High School      District            4761              3094650   \n",
       "Ford High School         District            2739              1763916   \n",
       "\n",
       "                       Per Student Budget  Average Math Score  \\\n",
       "school_name                                                     \n",
       "Rodriguez High School               637.0           76.842711   \n",
       "Figueroa High School                639.0           76.711767   \n",
       "Huang High School                   655.0           76.629414   \n",
       "Johnson High School                 650.0           77.072464   \n",
       "Ford High School                    644.0           77.102592   \n",
       "\n",
       "                       Average Reading Score  Percentage Passing Math  \\\n",
       "school_name                                                             \n",
       "Rodriguez High School              80.744686                66.366592   \n",
       "Figueroa High School               81.158020                65.988471   \n",
       "Huang High School                  81.182722                65.683922   \n",
       "Johnson High School                80.966394                66.057551   \n",
       "Ford High School                   80.746258                68.309602   \n",
       "\n",
       "                       Percentage Passing Reading  \\\n",
       "school_name                                         \n",
       "Rodriguez High School                   80.220055   \n",
       "Figueroa High School                    80.739234   \n",
       "Huang High School                       81.316421   \n",
       "Johnson High School                     81.222432   \n",
       "Ford High School                        79.299014   \n",
       "\n",
       "                       Percentage Overall Passing Rate  \n",
       "school_name                                             \n",
       "Rodriguez High School                        73.293323  \n",
       "Figueroa High School                         73.363852  \n",
       "Huang High School                            73.500171  \n",
       "Johnson High School                          73.639992  \n",
       "Ford High School                             73.804308  "
      ]
     },
     "execution_count": 156,
     "metadata": {},
     "output_type": "execute_result"
    }
   ],
   "source": [
    "#  Sort and display the worst five schools in overall passing rate\n",
    "\n",
    "schools_df.sort_values([\"Percentage Overall Passing Rate\"], ascending=True).head()\n"
   ]
  },
  {
   "cell_type": "markdown",
   "metadata": {
    "collapsed": true
   },
   "source": [
    "## Math Scores by Grade"
   ]
  },
  {
   "cell_type": "markdown",
   "metadata": {},
   "source": [
    "* Create a table that lists the average Reading Score for students of each grade level (9th, 10th, 11th, 12th) at each school.\n",
    "\n",
    "  * Create a pandas series for each grade. Hint: use a conditional statement.\n",
    "  \n",
    "  * Group each series by school\n",
    "  \n",
    "  * Combine the series into a dataframe\n",
    "  \n",
    "  * Optional: give the displayed data cleaner formatting"
   ]
  },
  {
   "cell_type": "code",
   "execution_count": 157,
   "metadata": {},
   "outputs": [],
   "source": [
    "# Create table that lists the average math score for each school of each grade level.\n",
    "\n",
    "#sort by grade\n",
    "grade9 = school_data_complete[(school_data_complete[\"grade\"] == \"9th\")]\n",
    "grade10 = school_data_complete[(school_data_complete[\"grade\"] == \"10th\")]\n",
    "grade11 = school_data_complete[(school_data_complete[\"grade\"] == \"11th\")]\n",
    "grade12 = school_data_complete[(school_data_complete[\"grade\"] == \"12th\")]\n",
    "\n"
   ]
  },
  {
   "cell_type": "code",
   "execution_count": 158,
   "metadata": {},
   "outputs": [],
   "source": [
    "# Calculate the average math score for 9th grade in each school\n",
    "\n",
    "grade9_scores = grade9.groupby([\"school_name\"]).mean()[\"math_score\"]\n"
   ]
  },
  {
   "cell_type": "code",
   "execution_count": 159,
   "metadata": {},
   "outputs": [],
   "source": [
    "# Calculate the average math score for 10th grade in each school\n",
    "\n",
    "grade10_scores = grade10.groupby([\"school_name\"]).mean()[\"math_score\"]\n"
   ]
  },
  {
   "cell_type": "code",
   "execution_count": 160,
   "metadata": {},
   "outputs": [],
   "source": [
    "# Calculate the average math score for 11th grade in each school\n",
    "\n",
    "grade11_scores = grade11.groupby([\"school_name\"]).mean()[\"math_score\"]\n"
   ]
  },
  {
   "cell_type": "code",
   "execution_count": 161,
   "metadata": {},
   "outputs": [],
   "source": [
    "# Calculate the average math score for 12th grade in each school\n",
    "\n",
    "grade12_scores = grade12.groupby([\"school_name\"]).mean()[\"math_score\"]\n"
   ]
  },
  {
   "cell_type": "code",
   "execution_count": 162,
   "metadata": {},
   "outputs": [
    {
     "data": {
      "text/html": [
       "<div>\n",
       "<style scoped>\n",
       "    .dataframe tbody tr th:only-of-type {\n",
       "        vertical-align: middle;\n",
       "    }\n",
       "\n",
       "    .dataframe tbody tr th {\n",
       "        vertical-align: top;\n",
       "    }\n",
       "\n",
       "    .dataframe thead th {\n",
       "        text-align: right;\n",
       "    }\n",
       "</style>\n",
       "<table border=\"1\" class=\"dataframe\">\n",
       "  <thead>\n",
       "    <tr style=\"text-align: right;\">\n",
       "      <th></th>\n",
       "      <th>9th grade</th>\n",
       "      <th>10th grade</th>\n",
       "      <th>11th grade</th>\n",
       "      <th>12th grade</th>\n",
       "    </tr>\n",
       "    <tr>\n",
       "      <th>school_name</th>\n",
       "      <th></th>\n",
       "      <th></th>\n",
       "      <th></th>\n",
       "      <th></th>\n",
       "    </tr>\n",
       "  </thead>\n",
       "  <tbody>\n",
       "    <tr>\n",
       "      <th>Bailey High School</th>\n",
       "      <td>77.083676</td>\n",
       "      <td>76.996772</td>\n",
       "      <td>77.515588</td>\n",
       "      <td>76.492218</td>\n",
       "    </tr>\n",
       "    <tr>\n",
       "      <th>Cabrera High School</th>\n",
       "      <td>83.094697</td>\n",
       "      <td>83.154506</td>\n",
       "      <td>82.765560</td>\n",
       "      <td>83.277487</td>\n",
       "    </tr>\n",
       "    <tr>\n",
       "      <th>Figueroa High School</th>\n",
       "      <td>76.403037</td>\n",
       "      <td>76.539974</td>\n",
       "      <td>76.884344</td>\n",
       "      <td>77.151369</td>\n",
       "    </tr>\n",
       "    <tr>\n",
       "      <th>Ford High School</th>\n",
       "      <td>77.361345</td>\n",
       "      <td>77.672316</td>\n",
       "      <td>76.918058</td>\n",
       "      <td>76.179963</td>\n",
       "    </tr>\n",
       "    <tr>\n",
       "      <th>Griffin High School</th>\n",
       "      <td>82.044010</td>\n",
       "      <td>84.229064</td>\n",
       "      <td>83.842105</td>\n",
       "      <td>83.356164</td>\n",
       "    </tr>\n",
       "    <tr>\n",
       "      <th>Hernandez High School</th>\n",
       "      <td>77.438495</td>\n",
       "      <td>77.337408</td>\n",
       "      <td>77.136029</td>\n",
       "      <td>77.186567</td>\n",
       "    </tr>\n",
       "    <tr>\n",
       "      <th>Holden High School</th>\n",
       "      <td>83.787402</td>\n",
       "      <td>83.429825</td>\n",
       "      <td>85.000000</td>\n",
       "      <td>82.855422</td>\n",
       "    </tr>\n",
       "    <tr>\n",
       "      <th>Huang High School</th>\n",
       "      <td>77.027251</td>\n",
       "      <td>75.908735</td>\n",
       "      <td>76.446602</td>\n",
       "      <td>77.225641</td>\n",
       "    </tr>\n",
       "    <tr>\n",
       "      <th>Johnson High School</th>\n",
       "      <td>77.187857</td>\n",
       "      <td>76.691117</td>\n",
       "      <td>77.491653</td>\n",
       "      <td>76.863248</td>\n",
       "    </tr>\n",
       "    <tr>\n",
       "      <th>Pena High School</th>\n",
       "      <td>83.625455</td>\n",
       "      <td>83.372000</td>\n",
       "      <td>84.328125</td>\n",
       "      <td>84.121547</td>\n",
       "    </tr>\n",
       "    <tr>\n",
       "      <th>Rodriguez High School</th>\n",
       "      <td>76.859966</td>\n",
       "      <td>76.612500</td>\n",
       "      <td>76.395626</td>\n",
       "      <td>77.690748</td>\n",
       "    </tr>\n",
       "    <tr>\n",
       "      <th>Shelton High School</th>\n",
       "      <td>83.420755</td>\n",
       "      <td>82.917411</td>\n",
       "      <td>83.383495</td>\n",
       "      <td>83.778976</td>\n",
       "    </tr>\n",
       "    <tr>\n",
       "      <th>Thomas High School</th>\n",
       "      <td>83.590022</td>\n",
       "      <td>83.087886</td>\n",
       "      <td>83.498795</td>\n",
       "      <td>83.497041</td>\n",
       "    </tr>\n",
       "    <tr>\n",
       "      <th>Wilson High School</th>\n",
       "      <td>83.085578</td>\n",
       "      <td>83.724422</td>\n",
       "      <td>83.195326</td>\n",
       "      <td>83.035794</td>\n",
       "    </tr>\n",
       "    <tr>\n",
       "      <th>Wright High School</th>\n",
       "      <td>83.264706</td>\n",
       "      <td>84.010288</td>\n",
       "      <td>83.836782</td>\n",
       "      <td>83.644986</td>\n",
       "    </tr>\n",
       "  </tbody>\n",
       "</table>\n",
       "</div>"
      ],
      "text/plain": [
       "                       9th grade  10th grade  11th grade  12th grade\n",
       "school_name                                                         \n",
       "Bailey High School     77.083676   76.996772   77.515588   76.492218\n",
       "Cabrera High School    83.094697   83.154506   82.765560   83.277487\n",
       "Figueroa High School   76.403037   76.539974   76.884344   77.151369\n",
       "Ford High School       77.361345   77.672316   76.918058   76.179963\n",
       "Griffin High School    82.044010   84.229064   83.842105   83.356164\n",
       "Hernandez High School  77.438495   77.337408   77.136029   77.186567\n",
       "Holden High School     83.787402   83.429825   85.000000   82.855422\n",
       "Huang High School      77.027251   75.908735   76.446602   77.225641\n",
       "Johnson High School    77.187857   76.691117   77.491653   76.863248\n",
       "Pena High School       83.625455   83.372000   84.328125   84.121547\n",
       "Rodriguez High School  76.859966   76.612500   76.395626   77.690748\n",
       "Shelton High School    83.420755   82.917411   83.383495   83.778976\n",
       "Thomas High School     83.590022   83.087886   83.498795   83.497041\n",
       "Wilson High School     83.085578   83.724422   83.195326   83.035794\n",
       "Wright High School     83.264706   84.010288   83.836782   83.644986"
      ]
     },
     "execution_count": 162,
     "metadata": {},
     "output_type": "execute_result"
    }
   ],
   "source": [
    "grade_math_scores_df = pd.DataFrame({\"9th grade\": grade9_scores,\n",
    "                                \"10th grade\":grade10_scores,\n",
    "                                \"11th grade\":grade11_scores,\n",
    "                                \"12th grade\":grade12_scores})\n",
    "\n",
    "grade_math_scores_df"
   ]
  },
  {
   "cell_type": "markdown",
   "metadata": {},
   "source": [
    "### Reading Score by Grade "
   ]
  },
  {
   "cell_type": "markdown",
   "metadata": {},
   "source": [
    "* Perform the same operations as above for reading scores"
   ]
  },
  {
   "cell_type": "code",
   "execution_count": 163,
   "metadata": {},
   "outputs": [],
   "source": [
    "# Create table that lists the average reading score for each school of each grade level.\n",
    "\n"
   ]
  },
  {
   "cell_type": "code",
   "execution_count": 164,
   "metadata": {},
   "outputs": [],
   "source": [
    "# Calculate the average reading score for 9th grade in each school\n",
    "\n",
    "grade9_rscores = grade9.groupby([\"school_name\"]).mean()[\"reading_score\"]\n",
    "\n"
   ]
  },
  {
   "cell_type": "code",
   "execution_count": 165,
   "metadata": {},
   "outputs": [],
   "source": [
    "# Calculate the average reading score for 10th grade in each school\n",
    "\n",
    "grade10_rscores = grade10.groupby([\"school_name\"]).mean()[\"reading_score\"]\n"
   ]
  },
  {
   "cell_type": "code",
   "execution_count": 166,
   "metadata": {},
   "outputs": [],
   "source": [
    "# Calculate the average reading score for 11th grade in each school\n",
    "\n",
    "grade11_rscores = grade11.groupby([\"school_name\"]).mean()[\"reading_score\"]\n"
   ]
  },
  {
   "cell_type": "code",
   "execution_count": 167,
   "metadata": {},
   "outputs": [],
   "source": [
    "# Calculate the average reading score for 12th grade in each school\n",
    "\n",
    "grade12_rscores = grade12.groupby([\"school_name\"]).mean()[\"reading_score\"]\n"
   ]
  },
  {
   "cell_type": "code",
   "execution_count": 168,
   "metadata": {},
   "outputs": [
    {
     "data": {
      "text/html": [
       "<div>\n",
       "<style scoped>\n",
       "    .dataframe tbody tr th:only-of-type {\n",
       "        vertical-align: middle;\n",
       "    }\n",
       "\n",
       "    .dataframe tbody tr th {\n",
       "        vertical-align: top;\n",
       "    }\n",
       "\n",
       "    .dataframe thead th {\n",
       "        text-align: right;\n",
       "    }\n",
       "</style>\n",
       "<table border=\"1\" class=\"dataframe\">\n",
       "  <thead>\n",
       "    <tr style=\"text-align: right;\">\n",
       "      <th></th>\n",
       "      <th>9th grade</th>\n",
       "      <th>10th grade</th>\n",
       "      <th>11th grade</th>\n",
       "      <th>12th grade</th>\n",
       "    </tr>\n",
       "    <tr>\n",
       "      <th>school_name</th>\n",
       "      <th></th>\n",
       "      <th></th>\n",
       "      <th></th>\n",
       "      <th></th>\n",
       "    </tr>\n",
       "  </thead>\n",
       "  <tbody>\n",
       "    <tr>\n",
       "      <th>Bailey High School</th>\n",
       "      <td>81.303155</td>\n",
       "      <td>80.907183</td>\n",
       "      <td>80.945643</td>\n",
       "      <td>80.912451</td>\n",
       "    </tr>\n",
       "    <tr>\n",
       "      <th>Cabrera High School</th>\n",
       "      <td>83.676136</td>\n",
       "      <td>84.253219</td>\n",
       "      <td>83.788382</td>\n",
       "      <td>84.287958</td>\n",
       "    </tr>\n",
       "    <tr>\n",
       "      <th>Figueroa High School</th>\n",
       "      <td>81.198598</td>\n",
       "      <td>81.408912</td>\n",
       "      <td>80.640339</td>\n",
       "      <td>81.384863</td>\n",
       "    </tr>\n",
       "    <tr>\n",
       "      <th>Ford High School</th>\n",
       "      <td>80.632653</td>\n",
       "      <td>81.262712</td>\n",
       "      <td>80.403642</td>\n",
       "      <td>80.662338</td>\n",
       "    </tr>\n",
       "    <tr>\n",
       "      <th>Griffin High School</th>\n",
       "      <td>83.369193</td>\n",
       "      <td>83.706897</td>\n",
       "      <td>84.288089</td>\n",
       "      <td>84.013699</td>\n",
       "    </tr>\n",
       "    <tr>\n",
       "      <th>Hernandez High School</th>\n",
       "      <td>80.866860</td>\n",
       "      <td>80.660147</td>\n",
       "      <td>81.396140</td>\n",
       "      <td>80.857143</td>\n",
       "    </tr>\n",
       "    <tr>\n",
       "      <th>Holden High School</th>\n",
       "      <td>83.677165</td>\n",
       "      <td>83.324561</td>\n",
       "      <td>83.815534</td>\n",
       "      <td>84.698795</td>\n",
       "    </tr>\n",
       "    <tr>\n",
       "      <th>Huang High School</th>\n",
       "      <td>81.290284</td>\n",
       "      <td>81.512386</td>\n",
       "      <td>81.417476</td>\n",
       "      <td>80.305983</td>\n",
       "    </tr>\n",
       "    <tr>\n",
       "      <th>Johnson High School</th>\n",
       "      <td>81.260714</td>\n",
       "      <td>80.773431</td>\n",
       "      <td>80.616027</td>\n",
       "      <td>81.227564</td>\n",
       "    </tr>\n",
       "    <tr>\n",
       "      <th>Pena High School</th>\n",
       "      <td>83.807273</td>\n",
       "      <td>83.612000</td>\n",
       "      <td>84.335938</td>\n",
       "      <td>84.591160</td>\n",
       "    </tr>\n",
       "    <tr>\n",
       "      <th>Rodriguez High School</th>\n",
       "      <td>80.993127</td>\n",
       "      <td>80.629808</td>\n",
       "      <td>80.864811</td>\n",
       "      <td>80.376426</td>\n",
       "    </tr>\n",
       "    <tr>\n",
       "      <th>Shelton High School</th>\n",
       "      <td>84.122642</td>\n",
       "      <td>83.441964</td>\n",
       "      <td>84.373786</td>\n",
       "      <td>82.781671</td>\n",
       "    </tr>\n",
       "    <tr>\n",
       "      <th>Thomas High School</th>\n",
       "      <td>83.728850</td>\n",
       "      <td>84.254157</td>\n",
       "      <td>83.585542</td>\n",
       "      <td>83.831361</td>\n",
       "    </tr>\n",
       "    <tr>\n",
       "      <th>Wilson High School</th>\n",
       "      <td>83.939778</td>\n",
       "      <td>84.021452</td>\n",
       "      <td>83.764608</td>\n",
       "      <td>84.317673</td>\n",
       "    </tr>\n",
       "    <tr>\n",
       "      <th>Wright High School</th>\n",
       "      <td>83.833333</td>\n",
       "      <td>83.812757</td>\n",
       "      <td>84.156322</td>\n",
       "      <td>84.073171</td>\n",
       "    </tr>\n",
       "  </tbody>\n",
       "</table>\n",
       "</div>"
      ],
      "text/plain": [
       "                       9th grade  10th grade  11th grade  12th grade\n",
       "school_name                                                         \n",
       "Bailey High School     81.303155   80.907183   80.945643   80.912451\n",
       "Cabrera High School    83.676136   84.253219   83.788382   84.287958\n",
       "Figueroa High School   81.198598   81.408912   80.640339   81.384863\n",
       "Ford High School       80.632653   81.262712   80.403642   80.662338\n",
       "Griffin High School    83.369193   83.706897   84.288089   84.013699\n",
       "Hernandez High School  80.866860   80.660147   81.396140   80.857143\n",
       "Holden High School     83.677165   83.324561   83.815534   84.698795\n",
       "Huang High School      81.290284   81.512386   81.417476   80.305983\n",
       "Johnson High School    81.260714   80.773431   80.616027   81.227564\n",
       "Pena High School       83.807273   83.612000   84.335938   84.591160\n",
       "Rodriguez High School  80.993127   80.629808   80.864811   80.376426\n",
       "Shelton High School    84.122642   83.441964   84.373786   82.781671\n",
       "Thomas High School     83.728850   84.254157   83.585542   83.831361\n",
       "Wilson High School     83.939778   84.021452   83.764608   84.317673\n",
       "Wright High School     83.833333   83.812757   84.156322   84.073171"
      ]
     },
     "execution_count": 168,
     "metadata": {},
     "output_type": "execute_result"
    }
   ],
   "source": [
    "grade_read_scores_df = pd.DataFrame({\"9th grade\": grade9_rscores,\n",
    "                                \"10th grade\":grade10_rscores,\n",
    "                                \"11th grade\":grade11_rscores,\n",
    "                                \"12th grade\":grade12_rscores})\n",
    "\n",
    "grade_read_scores_df"
   ]
  },
  {
   "cell_type": "markdown",
   "metadata": {},
   "source": [
    "## Scores by School Spending"
   ]
  },
  {
   "cell_type": "markdown",
   "metadata": {},
   "source": [
    "* Create a table that breaks down school performances based on average Spending Ranges (Per Student). Use 4 reasonable bins to group school spending. Include in the table each of the following:\n",
    "  * Average Math Score\n",
    "  * Average Reading Score\n",
    "  * % Passing Math\n",
    "  * % Passing Reading\n",
    "  * Overall Passing Rate (Average of the above two)"
   ]
  },
  {
   "cell_type": "code",
   "execution_count": 169,
   "metadata": {},
   "outputs": [],
   "source": [
    "# Sample bins. Feel free to create your own bins.\n",
    "spending_bins = [0, 585, 615, 645, 675]\n",
    "group_names = [\"<$585\", \"$585-615\", \"$615-645\", \"$645-675\"]"
   ]
  },
  {
   "cell_type": "code",
   "execution_count": 171,
   "metadata": {},
   "outputs": [
    {
     "data": {
      "text/html": [
       "<div>\n",
       "<style scoped>\n",
       "    .dataframe tbody tr th:only-of-type {\n",
       "        vertical-align: middle;\n",
       "    }\n",
       "\n",
       "    .dataframe tbody tr th {\n",
       "        vertical-align: top;\n",
       "    }\n",
       "\n",
       "    .dataframe thead th {\n",
       "        text-align: right;\n",
       "    }\n",
       "</style>\n",
       "<table border=\"1\" class=\"dataframe\">\n",
       "  <thead>\n",
       "    <tr style=\"text-align: right;\">\n",
       "      <th></th>\n",
       "      <th>School Type</th>\n",
       "      <th>Total Students</th>\n",
       "      <th>Total School Budget</th>\n",
       "      <th>Per Student Budget</th>\n",
       "      <th>Average Math Score</th>\n",
       "      <th>Average Reading Score</th>\n",
       "      <th>Percentage Passing Math</th>\n",
       "      <th>Percentage Passing Reading</th>\n",
       "      <th>Percentage Overall Passing Rate</th>\n",
       "    </tr>\n",
       "    <tr>\n",
       "      <th>school_name</th>\n",
       "      <th></th>\n",
       "      <th></th>\n",
       "      <th></th>\n",
       "      <th></th>\n",
       "      <th></th>\n",
       "      <th></th>\n",
       "      <th></th>\n",
       "      <th></th>\n",
       "      <th></th>\n",
       "    </tr>\n",
       "  </thead>\n",
       "  <tbody>\n",
       "    <tr>\n",
       "      <th>Bailey High School</th>\n",
       "      <td>District</td>\n",
       "      <td>4976</td>\n",
       "      <td>3124928</td>\n",
       "      <td>628.0</td>\n",
       "      <td>77.048432</td>\n",
       "      <td>81.033963</td>\n",
       "      <td>66.680064</td>\n",
       "      <td>81.933280</td>\n",
       "      <td>74.306672</td>\n",
       "    </tr>\n",
       "    <tr>\n",
       "      <th>Cabrera High School</th>\n",
       "      <td>Charter</td>\n",
       "      <td>1858</td>\n",
       "      <td>1081356</td>\n",
       "      <td>582.0</td>\n",
       "      <td>83.061895</td>\n",
       "      <td>83.975780</td>\n",
       "      <td>94.133477</td>\n",
       "      <td>97.039828</td>\n",
       "      <td>95.586652</td>\n",
       "    </tr>\n",
       "    <tr>\n",
       "      <th>Figueroa High School</th>\n",
       "      <td>District</td>\n",
       "      <td>2949</td>\n",
       "      <td>1884411</td>\n",
       "      <td>639.0</td>\n",
       "      <td>76.711767</td>\n",
       "      <td>81.158020</td>\n",
       "      <td>65.988471</td>\n",
       "      <td>80.739234</td>\n",
       "      <td>73.363852</td>\n",
       "    </tr>\n",
       "    <tr>\n",
       "      <th>Ford High School</th>\n",
       "      <td>District</td>\n",
       "      <td>2739</td>\n",
       "      <td>1763916</td>\n",
       "      <td>644.0</td>\n",
       "      <td>77.102592</td>\n",
       "      <td>80.746258</td>\n",
       "      <td>68.309602</td>\n",
       "      <td>79.299014</td>\n",
       "      <td>73.804308</td>\n",
       "    </tr>\n",
       "    <tr>\n",
       "      <th>Griffin High School</th>\n",
       "      <td>Charter</td>\n",
       "      <td>1468</td>\n",
       "      <td>917500</td>\n",
       "      <td>625.0</td>\n",
       "      <td>83.351499</td>\n",
       "      <td>83.816757</td>\n",
       "      <td>93.392371</td>\n",
       "      <td>97.138965</td>\n",
       "      <td>95.265668</td>\n",
       "    </tr>\n",
       "    <tr>\n",
       "      <th>Hernandez High School</th>\n",
       "      <td>District</td>\n",
       "      <td>4635</td>\n",
       "      <td>3022020</td>\n",
       "      <td>652.0</td>\n",
       "      <td>77.289752</td>\n",
       "      <td>80.934412</td>\n",
       "      <td>66.752967</td>\n",
       "      <td>80.862999</td>\n",
       "      <td>73.807983</td>\n",
       "    </tr>\n",
       "    <tr>\n",
       "      <th>Holden High School</th>\n",
       "      <td>Charter</td>\n",
       "      <td>427</td>\n",
       "      <td>248087</td>\n",
       "      <td>581.0</td>\n",
       "      <td>83.803279</td>\n",
       "      <td>83.814988</td>\n",
       "      <td>92.505855</td>\n",
       "      <td>96.252927</td>\n",
       "      <td>94.379391</td>\n",
       "    </tr>\n",
       "    <tr>\n",
       "      <th>Huang High School</th>\n",
       "      <td>District</td>\n",
       "      <td>2917</td>\n",
       "      <td>1910635</td>\n",
       "      <td>655.0</td>\n",
       "      <td>76.629414</td>\n",
       "      <td>81.182722</td>\n",
       "      <td>65.683922</td>\n",
       "      <td>81.316421</td>\n",
       "      <td>73.500171</td>\n",
       "    </tr>\n",
       "    <tr>\n",
       "      <th>Johnson High School</th>\n",
       "      <td>District</td>\n",
       "      <td>4761</td>\n",
       "      <td>3094650</td>\n",
       "      <td>650.0</td>\n",
       "      <td>77.072464</td>\n",
       "      <td>80.966394</td>\n",
       "      <td>66.057551</td>\n",
       "      <td>81.222432</td>\n",
       "      <td>73.639992</td>\n",
       "    </tr>\n",
       "    <tr>\n",
       "      <th>Pena High School</th>\n",
       "      <td>Charter</td>\n",
       "      <td>962</td>\n",
       "      <td>585858</td>\n",
       "      <td>609.0</td>\n",
       "      <td>83.839917</td>\n",
       "      <td>84.044699</td>\n",
       "      <td>94.594595</td>\n",
       "      <td>95.945946</td>\n",
       "      <td>95.270270</td>\n",
       "    </tr>\n",
       "    <tr>\n",
       "      <th>Rodriguez High School</th>\n",
       "      <td>District</td>\n",
       "      <td>3999</td>\n",
       "      <td>2547363</td>\n",
       "      <td>637.0</td>\n",
       "      <td>76.842711</td>\n",
       "      <td>80.744686</td>\n",
       "      <td>66.366592</td>\n",
       "      <td>80.220055</td>\n",
       "      <td>73.293323</td>\n",
       "    </tr>\n",
       "    <tr>\n",
       "      <th>Shelton High School</th>\n",
       "      <td>Charter</td>\n",
       "      <td>1761</td>\n",
       "      <td>1056600</td>\n",
       "      <td>600.0</td>\n",
       "      <td>83.359455</td>\n",
       "      <td>83.725724</td>\n",
       "      <td>93.867121</td>\n",
       "      <td>95.854628</td>\n",
       "      <td>94.860875</td>\n",
       "    </tr>\n",
       "    <tr>\n",
       "      <th>Thomas High School</th>\n",
       "      <td>Charter</td>\n",
       "      <td>1635</td>\n",
       "      <td>1043130</td>\n",
       "      <td>638.0</td>\n",
       "      <td>83.418349</td>\n",
       "      <td>83.848930</td>\n",
       "      <td>93.272171</td>\n",
       "      <td>97.308869</td>\n",
       "      <td>95.290520</td>\n",
       "    </tr>\n",
       "    <tr>\n",
       "      <th>Wilson High School</th>\n",
       "      <td>Charter</td>\n",
       "      <td>2283</td>\n",
       "      <td>1319574</td>\n",
       "      <td>578.0</td>\n",
       "      <td>83.274201</td>\n",
       "      <td>83.989488</td>\n",
       "      <td>93.867718</td>\n",
       "      <td>96.539641</td>\n",
       "      <td>95.203679</td>\n",
       "    </tr>\n",
       "    <tr>\n",
       "      <th>Wright High School</th>\n",
       "      <td>Charter</td>\n",
       "      <td>1800</td>\n",
       "      <td>1049400</td>\n",
       "      <td>583.0</td>\n",
       "      <td>83.682222</td>\n",
       "      <td>83.955000</td>\n",
       "      <td>93.333333</td>\n",
       "      <td>96.611111</td>\n",
       "      <td>94.972222</td>\n",
       "    </tr>\n",
       "  </tbody>\n",
       "</table>\n",
       "</div>"
      ],
      "text/plain": [
       "                      School Type  Total Students  Total School Budget  \\\n",
       "school_name                                                              \n",
       "Bailey High School       District            4976              3124928   \n",
       "Cabrera High School       Charter            1858              1081356   \n",
       "Figueroa High School     District            2949              1884411   \n",
       "Ford High School         District            2739              1763916   \n",
       "Griffin High School       Charter            1468               917500   \n",
       "Hernandez High School    District            4635              3022020   \n",
       "Holden High School        Charter             427               248087   \n",
       "Huang High School        District            2917              1910635   \n",
       "Johnson High School      District            4761              3094650   \n",
       "Pena High School          Charter             962               585858   \n",
       "Rodriguez High School    District            3999              2547363   \n",
       "Shelton High School       Charter            1761              1056600   \n",
       "Thomas High School        Charter            1635              1043130   \n",
       "Wilson High School        Charter            2283              1319574   \n",
       "Wright High School        Charter            1800              1049400   \n",
       "\n",
       "                       Per Student Budget  Average Math Score  \\\n",
       "school_name                                                     \n",
       "Bailey High School                  628.0           77.048432   \n",
       "Cabrera High School                 582.0           83.061895   \n",
       "Figueroa High School                639.0           76.711767   \n",
       "Ford High School                    644.0           77.102592   \n",
       "Griffin High School                 625.0           83.351499   \n",
       "Hernandez High School               652.0           77.289752   \n",
       "Holden High School                  581.0           83.803279   \n",
       "Huang High School                   655.0           76.629414   \n",
       "Johnson High School                 650.0           77.072464   \n",
       "Pena High School                    609.0           83.839917   \n",
       "Rodriguez High School               637.0           76.842711   \n",
       "Shelton High School                 600.0           83.359455   \n",
       "Thomas High School                  638.0           83.418349   \n",
       "Wilson High School                  578.0           83.274201   \n",
       "Wright High School                  583.0           83.682222   \n",
       "\n",
       "                       Average Reading Score  Percentage Passing Math  \\\n",
       "school_name                                                             \n",
       "Bailey High School                 81.033963                66.680064   \n",
       "Cabrera High School                83.975780                94.133477   \n",
       "Figueroa High School               81.158020                65.988471   \n",
       "Ford High School                   80.746258                68.309602   \n",
       "Griffin High School                83.816757                93.392371   \n",
       "Hernandez High School              80.934412                66.752967   \n",
       "Holden High School                 83.814988                92.505855   \n",
       "Huang High School                  81.182722                65.683922   \n",
       "Johnson High School                80.966394                66.057551   \n",
       "Pena High School                   84.044699                94.594595   \n",
       "Rodriguez High School              80.744686                66.366592   \n",
       "Shelton High School                83.725724                93.867121   \n",
       "Thomas High School                 83.848930                93.272171   \n",
       "Wilson High School                 83.989488                93.867718   \n",
       "Wright High School                 83.955000                93.333333   \n",
       "\n",
       "                       Percentage Passing Reading  \\\n",
       "school_name                                         \n",
       "Bailey High School                      81.933280   \n",
       "Cabrera High School                     97.039828   \n",
       "Figueroa High School                    80.739234   \n",
       "Ford High School                        79.299014   \n",
       "Griffin High School                     97.138965   \n",
       "Hernandez High School                   80.862999   \n",
       "Holden High School                      96.252927   \n",
       "Huang High School                       81.316421   \n",
       "Johnson High School                     81.222432   \n",
       "Pena High School                        95.945946   \n",
       "Rodriguez High School                   80.220055   \n",
       "Shelton High School                     95.854628   \n",
       "Thomas High School                      97.308869   \n",
       "Wilson High School                      96.539641   \n",
       "Wright High School                      96.611111   \n",
       "\n",
       "                       Percentage Overall Passing Rate  \n",
       "school_name                                             \n",
       "Bailey High School                           74.306672  \n",
       "Cabrera High School                          95.586652  \n",
       "Figueroa High School                         73.363852  \n",
       "Ford High School                             73.804308  \n",
       "Griffin High School                          95.265668  \n",
       "Hernandez High School                        73.807983  \n",
       "Holden High School                           94.379391  \n",
       "Huang High School                            73.500171  \n",
       "Johnson High School                          73.639992  \n",
       "Pena High School                             95.270270  \n",
       "Rodriguez High School                        73.293323  \n",
       "Shelton High School                          94.860875  \n",
       "Thomas High School                           95.290520  \n",
       "Wilson High School                           95.203679  \n",
       "Wright High School                           94.972222  "
      ]
     },
     "execution_count": 171,
     "metadata": {},
     "output_type": "execute_result"
    }
   ],
   "source": [
    "schools_df"
   ]
  },
  {
   "cell_type": "code",
   "execution_count": 173,
   "metadata": {},
   "outputs": [
    {
     "data": {
      "text/html": [
       "<div>\n",
       "<style scoped>\n",
       "    .dataframe tbody tr th:only-of-type {\n",
       "        vertical-align: middle;\n",
       "    }\n",
       "\n",
       "    .dataframe tbody tr th {\n",
       "        vertical-align: top;\n",
       "    }\n",
       "\n",
       "    .dataframe thead th {\n",
       "        text-align: right;\n",
       "    }\n",
       "</style>\n",
       "<table border=\"1\" class=\"dataframe\">\n",
       "  <thead>\n",
       "    <tr style=\"text-align: right;\">\n",
       "      <th></th>\n",
       "      <th>School Type</th>\n",
       "      <th>Total Students</th>\n",
       "      <th>Total School Budget</th>\n",
       "      <th>Per Student Budget</th>\n",
       "      <th>Average Math Score</th>\n",
       "      <th>Average Reading Score</th>\n",
       "      <th>Percentage Passing Math</th>\n",
       "      <th>Percentage Passing Reading</th>\n",
       "      <th>Percentage Overall Passing Rate</th>\n",
       "      <th>spending ranges per student</th>\n",
       "      <th>Spending Ranges per Student</th>\n",
       "    </tr>\n",
       "    <tr>\n",
       "      <th>school_name</th>\n",
       "      <th></th>\n",
       "      <th></th>\n",
       "      <th></th>\n",
       "      <th></th>\n",
       "      <th></th>\n",
       "      <th></th>\n",
       "      <th></th>\n",
       "      <th></th>\n",
       "      <th></th>\n",
       "      <th></th>\n",
       "      <th></th>\n",
       "    </tr>\n",
       "  </thead>\n",
       "  <tbody>\n",
       "    <tr>\n",
       "      <th>Bailey High School</th>\n",
       "      <td>District</td>\n",
       "      <td>4976</td>\n",
       "      <td>3124928</td>\n",
       "      <td>628.0</td>\n",
       "      <td>77.048432</td>\n",
       "      <td>81.033963</td>\n",
       "      <td>66.680064</td>\n",
       "      <td>81.933280</td>\n",
       "      <td>74.306672</td>\n",
       "      <td>$615-645</td>\n",
       "      <td>$615-645</td>\n",
       "    </tr>\n",
       "    <tr>\n",
       "      <th>Cabrera High School</th>\n",
       "      <td>Charter</td>\n",
       "      <td>1858</td>\n",
       "      <td>1081356</td>\n",
       "      <td>582.0</td>\n",
       "      <td>83.061895</td>\n",
       "      <td>83.975780</td>\n",
       "      <td>94.133477</td>\n",
       "      <td>97.039828</td>\n",
       "      <td>95.586652</td>\n",
       "      <td>&lt;$585</td>\n",
       "      <td>&lt;$585</td>\n",
       "    </tr>\n",
       "    <tr>\n",
       "      <th>Figueroa High School</th>\n",
       "      <td>District</td>\n",
       "      <td>2949</td>\n",
       "      <td>1884411</td>\n",
       "      <td>639.0</td>\n",
       "      <td>76.711767</td>\n",
       "      <td>81.158020</td>\n",
       "      <td>65.988471</td>\n",
       "      <td>80.739234</td>\n",
       "      <td>73.363852</td>\n",
       "      <td>$615-645</td>\n",
       "      <td>$615-645</td>\n",
       "    </tr>\n",
       "    <tr>\n",
       "      <th>Ford High School</th>\n",
       "      <td>District</td>\n",
       "      <td>2739</td>\n",
       "      <td>1763916</td>\n",
       "      <td>644.0</td>\n",
       "      <td>77.102592</td>\n",
       "      <td>80.746258</td>\n",
       "      <td>68.309602</td>\n",
       "      <td>79.299014</td>\n",
       "      <td>73.804308</td>\n",
       "      <td>$615-645</td>\n",
       "      <td>$615-645</td>\n",
       "    </tr>\n",
       "    <tr>\n",
       "      <th>Griffin High School</th>\n",
       "      <td>Charter</td>\n",
       "      <td>1468</td>\n",
       "      <td>917500</td>\n",
       "      <td>625.0</td>\n",
       "      <td>83.351499</td>\n",
       "      <td>83.816757</td>\n",
       "      <td>93.392371</td>\n",
       "      <td>97.138965</td>\n",
       "      <td>95.265668</td>\n",
       "      <td>$615-645</td>\n",
       "      <td>$615-645</td>\n",
       "    </tr>\n",
       "    <tr>\n",
       "      <th>Hernandez High School</th>\n",
       "      <td>District</td>\n",
       "      <td>4635</td>\n",
       "      <td>3022020</td>\n",
       "      <td>652.0</td>\n",
       "      <td>77.289752</td>\n",
       "      <td>80.934412</td>\n",
       "      <td>66.752967</td>\n",
       "      <td>80.862999</td>\n",
       "      <td>73.807983</td>\n",
       "      <td>$645-675</td>\n",
       "      <td>$645-675</td>\n",
       "    </tr>\n",
       "    <tr>\n",
       "      <th>Holden High School</th>\n",
       "      <td>Charter</td>\n",
       "      <td>427</td>\n",
       "      <td>248087</td>\n",
       "      <td>581.0</td>\n",
       "      <td>83.803279</td>\n",
       "      <td>83.814988</td>\n",
       "      <td>92.505855</td>\n",
       "      <td>96.252927</td>\n",
       "      <td>94.379391</td>\n",
       "      <td>&lt;$585</td>\n",
       "      <td>&lt;$585</td>\n",
       "    </tr>\n",
       "    <tr>\n",
       "      <th>Huang High School</th>\n",
       "      <td>District</td>\n",
       "      <td>2917</td>\n",
       "      <td>1910635</td>\n",
       "      <td>655.0</td>\n",
       "      <td>76.629414</td>\n",
       "      <td>81.182722</td>\n",
       "      <td>65.683922</td>\n",
       "      <td>81.316421</td>\n",
       "      <td>73.500171</td>\n",
       "      <td>$645-675</td>\n",
       "      <td>$645-675</td>\n",
       "    </tr>\n",
       "    <tr>\n",
       "      <th>Johnson High School</th>\n",
       "      <td>District</td>\n",
       "      <td>4761</td>\n",
       "      <td>3094650</td>\n",
       "      <td>650.0</td>\n",
       "      <td>77.072464</td>\n",
       "      <td>80.966394</td>\n",
       "      <td>66.057551</td>\n",
       "      <td>81.222432</td>\n",
       "      <td>73.639992</td>\n",
       "      <td>$645-675</td>\n",
       "      <td>$645-675</td>\n",
       "    </tr>\n",
       "    <tr>\n",
       "      <th>Pena High School</th>\n",
       "      <td>Charter</td>\n",
       "      <td>962</td>\n",
       "      <td>585858</td>\n",
       "      <td>609.0</td>\n",
       "      <td>83.839917</td>\n",
       "      <td>84.044699</td>\n",
       "      <td>94.594595</td>\n",
       "      <td>95.945946</td>\n",
       "      <td>95.270270</td>\n",
       "      <td>$585-615</td>\n",
       "      <td>$585-615</td>\n",
       "    </tr>\n",
       "    <tr>\n",
       "      <th>Rodriguez High School</th>\n",
       "      <td>District</td>\n",
       "      <td>3999</td>\n",
       "      <td>2547363</td>\n",
       "      <td>637.0</td>\n",
       "      <td>76.842711</td>\n",
       "      <td>80.744686</td>\n",
       "      <td>66.366592</td>\n",
       "      <td>80.220055</td>\n",
       "      <td>73.293323</td>\n",
       "      <td>$615-645</td>\n",
       "      <td>$615-645</td>\n",
       "    </tr>\n",
       "    <tr>\n",
       "      <th>Shelton High School</th>\n",
       "      <td>Charter</td>\n",
       "      <td>1761</td>\n",
       "      <td>1056600</td>\n",
       "      <td>600.0</td>\n",
       "      <td>83.359455</td>\n",
       "      <td>83.725724</td>\n",
       "      <td>93.867121</td>\n",
       "      <td>95.854628</td>\n",
       "      <td>94.860875</td>\n",
       "      <td>$585-615</td>\n",
       "      <td>$585-615</td>\n",
       "    </tr>\n",
       "    <tr>\n",
       "      <th>Thomas High School</th>\n",
       "      <td>Charter</td>\n",
       "      <td>1635</td>\n",
       "      <td>1043130</td>\n",
       "      <td>638.0</td>\n",
       "      <td>83.418349</td>\n",
       "      <td>83.848930</td>\n",
       "      <td>93.272171</td>\n",
       "      <td>97.308869</td>\n",
       "      <td>95.290520</td>\n",
       "      <td>$615-645</td>\n",
       "      <td>$615-645</td>\n",
       "    </tr>\n",
       "    <tr>\n",
       "      <th>Wilson High School</th>\n",
       "      <td>Charter</td>\n",
       "      <td>2283</td>\n",
       "      <td>1319574</td>\n",
       "      <td>578.0</td>\n",
       "      <td>83.274201</td>\n",
       "      <td>83.989488</td>\n",
       "      <td>93.867718</td>\n",
       "      <td>96.539641</td>\n",
       "      <td>95.203679</td>\n",
       "      <td>&lt;$585</td>\n",
       "      <td>&lt;$585</td>\n",
       "    </tr>\n",
       "    <tr>\n",
       "      <th>Wright High School</th>\n",
       "      <td>Charter</td>\n",
       "      <td>1800</td>\n",
       "      <td>1049400</td>\n",
       "      <td>583.0</td>\n",
       "      <td>83.682222</td>\n",
       "      <td>83.955000</td>\n",
       "      <td>93.333333</td>\n",
       "      <td>96.611111</td>\n",
       "      <td>94.972222</td>\n",
       "      <td>&lt;$585</td>\n",
       "      <td>&lt;$585</td>\n",
       "    </tr>\n",
       "  </tbody>\n",
       "</table>\n",
       "</div>"
      ],
      "text/plain": [
       "                      School Type  Total Students  Total School Budget  \\\n",
       "school_name                                                              \n",
       "Bailey High School       District            4976              3124928   \n",
       "Cabrera High School       Charter            1858              1081356   \n",
       "Figueroa High School     District            2949              1884411   \n",
       "Ford High School         District            2739              1763916   \n",
       "Griffin High School       Charter            1468               917500   \n",
       "Hernandez High School    District            4635              3022020   \n",
       "Holden High School        Charter             427               248087   \n",
       "Huang High School        District            2917              1910635   \n",
       "Johnson High School      District            4761              3094650   \n",
       "Pena High School          Charter             962               585858   \n",
       "Rodriguez High School    District            3999              2547363   \n",
       "Shelton High School       Charter            1761              1056600   \n",
       "Thomas High School        Charter            1635              1043130   \n",
       "Wilson High School        Charter            2283              1319574   \n",
       "Wright High School        Charter            1800              1049400   \n",
       "\n",
       "                       Per Student Budget  Average Math Score  \\\n",
       "school_name                                                     \n",
       "Bailey High School                  628.0           77.048432   \n",
       "Cabrera High School                 582.0           83.061895   \n",
       "Figueroa High School                639.0           76.711767   \n",
       "Ford High School                    644.0           77.102592   \n",
       "Griffin High School                 625.0           83.351499   \n",
       "Hernandez High School               652.0           77.289752   \n",
       "Holden High School                  581.0           83.803279   \n",
       "Huang High School                   655.0           76.629414   \n",
       "Johnson High School                 650.0           77.072464   \n",
       "Pena High School                    609.0           83.839917   \n",
       "Rodriguez High School               637.0           76.842711   \n",
       "Shelton High School                 600.0           83.359455   \n",
       "Thomas High School                  638.0           83.418349   \n",
       "Wilson High School                  578.0           83.274201   \n",
       "Wright High School                  583.0           83.682222   \n",
       "\n",
       "                       Average Reading Score  Percentage Passing Math  \\\n",
       "school_name                                                             \n",
       "Bailey High School                 81.033963                66.680064   \n",
       "Cabrera High School                83.975780                94.133477   \n",
       "Figueroa High School               81.158020                65.988471   \n",
       "Ford High School                   80.746258                68.309602   \n",
       "Griffin High School                83.816757                93.392371   \n",
       "Hernandez High School              80.934412                66.752967   \n",
       "Holden High School                 83.814988                92.505855   \n",
       "Huang High School                  81.182722                65.683922   \n",
       "Johnson High School                80.966394                66.057551   \n",
       "Pena High School                   84.044699                94.594595   \n",
       "Rodriguez High School              80.744686                66.366592   \n",
       "Shelton High School                83.725724                93.867121   \n",
       "Thomas High School                 83.848930                93.272171   \n",
       "Wilson High School                 83.989488                93.867718   \n",
       "Wright High School                 83.955000                93.333333   \n",
       "\n",
       "                       Percentage Passing Reading  \\\n",
       "school_name                                         \n",
       "Bailey High School                      81.933280   \n",
       "Cabrera High School                     97.039828   \n",
       "Figueroa High School                    80.739234   \n",
       "Ford High School                        79.299014   \n",
       "Griffin High School                     97.138965   \n",
       "Hernandez High School                   80.862999   \n",
       "Holden High School                      96.252927   \n",
       "Huang High School                       81.316421   \n",
       "Johnson High School                     81.222432   \n",
       "Pena High School                        95.945946   \n",
       "Rodriguez High School                   80.220055   \n",
       "Shelton High School                     95.854628   \n",
       "Thomas High School                      97.308869   \n",
       "Wilson High School                      96.539641   \n",
       "Wright High School                      96.611111   \n",
       "\n",
       "                       Percentage Overall Passing Rate  \\\n",
       "school_name                                              \n",
       "Bailey High School                           74.306672   \n",
       "Cabrera High School                          95.586652   \n",
       "Figueroa High School                         73.363852   \n",
       "Ford High School                             73.804308   \n",
       "Griffin High School                          95.265668   \n",
       "Hernandez High School                        73.807983   \n",
       "Holden High School                           94.379391   \n",
       "Huang High School                            73.500171   \n",
       "Johnson High School                          73.639992   \n",
       "Pena High School                             95.270270   \n",
       "Rodriguez High School                        73.293323   \n",
       "Shelton High School                          94.860875   \n",
       "Thomas High School                           95.290520   \n",
       "Wilson High School                           95.203679   \n",
       "Wright High School                           94.972222   \n",
       "\n",
       "                      spending ranges per student Spending Ranges per Student  \n",
       "school_name                                                                    \n",
       "Bailey High School                       $615-645                    $615-645  \n",
       "Cabrera High School                         <$585                       <$585  \n",
       "Figueroa High School                     $615-645                    $615-645  \n",
       "Ford High School                         $615-645                    $615-645  \n",
       "Griffin High School                      $615-645                    $615-645  \n",
       "Hernandez High School                    $645-675                    $645-675  \n",
       "Holden High School                          <$585                       <$585  \n",
       "Huang High School                        $645-675                    $645-675  \n",
       "Johnson High School                      $645-675                    $645-675  \n",
       "Pena High School                         $585-615                    $585-615  \n",
       "Rodriguez High School                    $615-645                    $615-645  \n",
       "Shelton High School                      $585-615                    $585-615  \n",
       "Thomas High School                       $615-645                    $615-645  \n",
       "Wilson High School                          <$585                       <$585  \n",
       "Wright High School                          <$585                       <$585  "
      ]
     },
     "execution_count": 173,
     "metadata": {},
     "output_type": "execute_result"
    }
   ],
   "source": [
    "# Create a new column to show budget per student in each row\n",
    "def condition(x):\n",
    "    if x < 585 : \n",
    "        return group_names[0]\n",
    "    elif x >= 585 and x < 615:\n",
    "        return group_names[1]\n",
    "    elif x >= 615 and x < 645: \n",
    "        return group_names[2]\n",
    "    elif x >= 645 and x < 675:\n",
    "        return group_names[3]\n",
    "    else: \n",
    "        return group_names[4]\n",
    "schools_df['Spending Ranges per Student'] = schools_df['Per Student Budget'].map(condition)\n",
    "schools_df"
   ]
  },
  {
   "cell_type": "code",
   "execution_count": 194,
   "metadata": {},
   "outputs": [
    {
     "data": {
      "text/plain": [
       "83.45539900855027"
      ]
     },
     "execution_count": 194,
     "metadata": {},
     "output_type": "execute_result"
    }
   ],
   "source": [
    "# Calculate the average math score within each spending range\n",
    "\n",
    "one = schools_df[schools_df['Spending Ranges per Student'] == '<$585']\n",
    "avg_one = one.sum()\n",
    "avg_one['Average Math Score']/4 #4 schools in the <585 range\n",
    "\n"
   ]
  },
  {
   "cell_type": "code",
   "execution_count": 195,
   "metadata": {},
   "outputs": [
    {
     "data": {
      "text/plain": [
       "83.59968584755637"
      ]
     },
     "execution_count": 195,
     "metadata": {},
     "output_type": "execute_result"
    }
   ],
   "source": [
    "two = schools_df[schools_df['Spending Ranges per Student'] == '$585-615']\n",
    "avg_two = two.sum()\n",
    "avg_two['Average Math Score']/2 #2 schools in the 585-615 range"
   ]
  },
  {
   "cell_type": "code",
   "execution_count": 196,
   "metadata": {},
   "outputs": [
    {
     "data": {
      "text/plain": [
       "79.0792248837525"
      ]
     },
     "execution_count": 196,
     "metadata": {},
     "output_type": "execute_result"
    }
   ],
   "source": [
    "three = schools_df[schools_df['Spending Ranges per Student'] == '$615-645']\n",
    "avg_three = three.sum()\n",
    "avg_three['Average Math Score']/6 #6 schools in the 615-645 range"
   ]
  },
  {
   "cell_type": "code",
   "execution_count": 203,
   "metadata": {},
   "outputs": [
    {
     "data": {
      "text/plain": [
       "76.99720981240274"
      ]
     },
     "execution_count": 203,
     "metadata": {},
     "output_type": "execute_result"
    }
   ],
   "source": [
    "four = schools_df[schools_df['Spending Ranges per Student'] == '$645-675']\n",
    "avg_four = four.sum()\n",
    "avg_four['Average Math Score']/3 #3 schools in the 645-675 range"
   ]
  },
  {
   "cell_type": "code",
   "execution_count": 204,
   "metadata": {},
   "outputs": [
    {
     "data": {
      "text/plain": [
       "83.93381405396646"
      ]
     },
     "execution_count": 204,
     "metadata": {},
     "output_type": "execute_result"
    }
   ],
   "source": [
    "# Calculate the average reading score within each spending range\n",
    "\n",
    "oner = schools_df[schools_df['Spending Ranges per Student'] == '<$585']\n",
    "avg_one = oner.sum()\n",
    "avg_one['Average Reading Score']/4 #4 schools in the <585 range"
   ]
  },
  {
   "cell_type": "code",
   "execution_count": 205,
   "metadata": {},
   "outputs": [
    {
     "data": {
      "text/plain": [
       "83.88521128257074"
      ]
     },
     "execution_count": 205,
     "metadata": {},
     "output_type": "execute_result"
    }
   ],
   "source": [
    "twor = schools_df[schools_df['Spending Ranges per Student'] == '$585-615']\n",
    "avg_two = twor.sum()\n",
    "avg_two['Average Reading Score']/2 #2 schools in the 585-615 range"
   ]
  },
  {
   "cell_type": "code",
   "execution_count": 206,
   "metadata": {},
   "outputs": [
    {
     "data": {
      "text/plain": [
       "81.8914356294729"
      ]
     },
     "execution_count": 206,
     "metadata": {},
     "output_type": "execute_result"
    }
   ],
   "source": [
    "threer = schools_df[schools_df['Spending Ranges per Student'] == '$615-645']\n",
    "avg_three = threer.sum()\n",
    "avg_three['Average Reading Score']/6 #6 schools in the 615-645 range"
   ]
  },
  {
   "cell_type": "code",
   "execution_count": 207,
   "metadata": {},
   "outputs": [
    {
     "data": {
      "text/plain": [
       "81.0278425571344"
      ]
     },
     "execution_count": 207,
     "metadata": {},
     "output_type": "execute_result"
    }
   ],
   "source": [
    "fourr = schools_df[schools_df['Spending Ranges per Student'] == '$645-675']\n",
    "avg_four = fourr.sum()\n",
    "avg_four['Average Reading Score']/3 #3 schools in the 645-675 range"
   ]
  },
  {
   "cell_type": "code",
   "execution_count": 208,
   "metadata": {},
   "outputs": [
    {
     "data": {
      "text/plain": [
       "Spending Ranges per Student\n",
       "$585-615    94.230858\n",
       "<$585       93.460096\n",
       "$615-645    75.668212\n",
       "$645-675    66.164813\n",
       "Name: Percentage Passing Math, dtype: float64"
      ]
     },
     "execution_count": 208,
     "metadata": {},
     "output_type": "execute_result"
    }
   ],
   "source": [
    "# Calculate the percentage passing rate for math in each spending range\n",
    "passing_math_spending = schools_df.groupby('Spending Ranges per Student')['Percentage Passing Math'].mean()\n",
    "passing_math_spending.sort_values(ascending = False)"
   ]
  },
  {
   "cell_type": "code",
   "execution_count": 209,
   "metadata": {},
   "outputs": [
    {
     "data": {
      "text/plain": [
       "Spending Ranges per Student\n",
       "<$585       96.610877\n",
       "$585-615    95.900287\n",
       "$615-645    86.106569\n",
       "$645-675    81.133951\n",
       "Name: Percentage Passing Reading, dtype: float64"
      ]
     },
     "execution_count": 209,
     "metadata": {},
     "output_type": "execute_result"
    }
   ],
   "source": [
    "# Calculate the percentage passing rate for reading in each spending range\n",
    "\n",
    "passing_reading_spending = schools_df.groupby('Spending Ranges per Student')['Percentage Passing Reading'].mean()\n",
    "passing_reading_spending.sort_values(ascending = False)\n"
   ]
  },
  {
   "cell_type": "code",
   "execution_count": 210,
   "metadata": {},
   "outputs": [
    {
     "data": {
      "text/plain": [
       "Spending Ranges per Student\n",
       "$585-615    95.065572\n",
       "<$585       95.035486\n",
       "$615-645    80.887391\n",
       "$645-675    73.649382\n",
       "Name: Percentage Overall Passing Rate, dtype: float64"
      ]
     },
     "execution_count": 210,
     "metadata": {},
     "output_type": "execute_result"
    }
   ],
   "source": [
    "# Calculate the percentage overall passing rate in each spending range\n",
    "\n",
    "overall_passing_spending = schools_df.groupby('Spending Ranges per Student')['Percentage Overall Passing Rate'].mean()\n",
    "overall_passing_spending.sort_values(ascending = False)\n"
   ]
  },
  {
   "cell_type": "code",
   "execution_count": null,
   "metadata": {},
   "outputs": [],
   "source": []
  },
  {
   "cell_type": "code",
   "execution_count": null,
   "metadata": {},
   "outputs": [],
   "source": []
  },
  {
   "cell_type": "markdown",
   "metadata": {},
   "source": [
    "### Scores by School Size"
   ]
  },
  {
   "cell_type": "markdown",
   "metadata": {},
   "source": [
    "* Perform the same operations as above, based on school size."
   ]
  },
  {
   "cell_type": "code",
   "execution_count": 112,
   "metadata": {},
   "outputs": [],
   "source": [
    "# Sample bins. Feel free to create your own bins.\n",
    "size_bins = [0, 1000, 2000, 5000]\n",
    "group_names = [\"Small (<1000)\", \"Medium (1000-2000)\", \"Large (2000-5000)\"]"
   ]
  },
  {
   "cell_type": "code",
   "execution_count": 121,
   "metadata": {
    "scrolled": true
   },
   "outputs": [],
   "source": [
    "# Create a new column for the bin groups\n",
    "\n",
    "school_data_complete['size_bins'] = pd.cut(school_data_complete['size'], size_bins, labels = group_names)\n",
    "size = school_data_complete.groupby('size_bins')"
   ]
  },
  {
   "cell_type": "markdown",
   "metadata": {},
   "source": [
    "Look for the total count of test scores that pass 70% or higher\n",
    "\n",
    "\n"
   ]
  },
  {
   "cell_type": "code",
   "execution_count": 117,
   "metadata": {},
   "outputs": [
    {
     "data": {
      "text/plain": [
       "size_bins\n",
       "Small (<1000)         0.939525\n",
       "Medium (1000-2000)    0.936165\n",
       "Large (2000-5000)     0.686524\n",
       "Name: Student ID, dtype: float64"
      ]
     },
     "execution_count": 117,
     "metadata": {},
     "output_type": "execute_result"
    }
   ],
   "source": [
    "# math_pass_size\n",
    "\n",
    "passingmath_size = school_data_complete[school_data_complete['math_score'] >= 70].groupby('size_bins')['Student ID'].count()/size['Student ID'].count()\n",
    "passingmath_size\n"
   ]
  },
  {
   "cell_type": "code",
   "execution_count": 118,
   "metadata": {},
   "outputs": [
    {
     "data": {
      "text/plain": [
       "size_bins\n",
       "Small (<1000)         0.960403\n",
       "Medium (1000-2000)    0.967731\n",
       "Large (2000-5000)     0.821252\n",
       "Name: Student ID, dtype: float64"
      ]
     },
     "execution_count": 118,
     "metadata": {},
     "output_type": "execute_result"
    }
   ],
   "source": [
    "# read_pass_size\n",
    "\n",
    "passingread_size = school_data_complete[school_data_complete['reading_score'] >= 70].groupby('size_bins')['Student ID'].count()/size['Student ID'].count()\n",
    "passingread_size\n"
   ]
  },
  {
   "cell_type": "code",
   "execution_count": 119,
   "metadata": {},
   "outputs": [
    {
     "data": {
      "text/plain": [
       "size_bins\n",
       "Small (<1000)          125200\n",
       "Medium (1000-2000)     772300\n",
       "Large (2000-5000)     1655300\n",
       "Name: Student ID, dtype: int64"
      ]
     },
     "execution_count": 119,
     "metadata": {},
     "output_type": "execute_result"
    }
   ],
   "source": [
    "# Calculate the overall passing rate for different school size\n",
    "\n",
    "overall_size = school_data_complete[(school_data_complete['reading_score'] >= 70) & (school_data_complete['math_score'] >= 70)].groupby('size_bins')['Student ID'].count()*100\n",
    "overall_size"
   ]
  },
  {
   "cell_type": "markdown",
   "metadata": {},
   "source": [
    "### Scores by School Type"
   ]
  },
  {
   "cell_type": "markdown",
   "metadata": {},
   "source": [
    "* Perform the same operations as above, based on school type."
   ]
  },
  {
   "cell_type": "code",
   "execution_count": 123,
   "metadata": {},
   "outputs": [],
   "source": [
    "# Create bins and groups, school type {'Charter', 'District'}\n",
    "schoolType = school_data_complete.groupby(\"type\")\n",
    "\n"
   ]
  },
  {
   "cell_type": "markdown",
   "metadata": {},
   "source": [
    "Find counts of the passing 70 or higher score for the both test\n"
   ]
  },
  {
   "cell_type": "code",
   "execution_count": 124,
   "metadata": {},
   "outputs": [
    {
     "data": {
      "text/plain": [
       "type\n",
       "Charter     0.937018\n",
       "District    0.665184\n",
       "Name: Student ID, dtype: float64"
      ]
     },
     "execution_count": 124,
     "metadata": {},
     "output_type": "execute_result"
    }
   ],
   "source": [
    "# math pass size\n",
    "\n",
    "pass_math_type = school_data_complete[school_data_complete['math_score'] >= 70].groupby('type')['Student ID'].count()/schoolType['Student ID'].count()\n",
    "pass_math_type\n"
   ]
  },
  {
   "cell_type": "code",
   "execution_count": 126,
   "metadata": {},
   "outputs": [
    {
     "data": {
      "text/plain": [
       "type\n",
       "Charter     0.966459\n",
       "District    0.809052\n",
       "Name: Student ID, dtype: float64"
      ]
     },
     "execution_count": 126,
     "metadata": {},
     "output_type": "execute_result"
    }
   ],
   "source": [
    "# reading pass size\n",
    "pass_reading_type = school_data_complete[school_data_complete['reading_score'] >= 70].groupby('type')['Student ID'].count()/schoolType['Student ID'].count()\n",
    "pass_reading_type\n"
   ]
  },
  {
   "cell_type": "code",
   "execution_count": 211,
   "metadata": {},
   "outputs": [
    {
     "data": {
      "text/plain": [
       "type\n",
       "Charter     1216800\n",
       "District    2528400\n",
       "Name: Student ID, dtype: int64"
      ]
     },
     "execution_count": 211,
     "metadata": {},
     "output_type": "execute_result"
    }
   ],
   "source": [
    "# Calculate the overall passing rate\n",
    "overall_type = school_data_complete[(school_data_complete['reading_score'] >= 70) + (school_data_complete['math_score'] >= 70)].groupby('type')['Student ID'].count()*100\n",
    "overall_type\n"
   ]
  },
  {
   "cell_type": "code",
   "execution_count": null,
   "metadata": {},
   "outputs": [],
   "source": []
  }
 ],
 "metadata": {
  "anaconda-cloud": {},
  "kernel_info": {
   "name": "python3"
  },
  "kernelspec": {
   "display_name": "Python 3 (ipykernel)",
   "language": "python",
   "name": "python3"
  },
  "language_info": {
   "codemirror_mode": {
    "name": "ipython",
    "version": 3
   },
   "file_extension": ".py",
   "mimetype": "text/x-python",
   "name": "python",
   "nbconvert_exporter": "python",
   "pygments_lexer": "ipython3",
   "version": "3.9.13"
  },
  "latex_envs": {
   "LaTeX_envs_menu_present": true,
   "autoclose": false,
   "autocomplete": true,
   "bibliofile": "biblio.bib",
   "cite_by": "apalike",
   "current_citInitial": 1,
   "eqLabelWithNumbers": true,
   "eqNumInitial": 1,
   "hotkeys": {
    "equation": "Ctrl-E",
    "itemize": "Ctrl-I"
   },
   "labels_anchors": false,
   "latex_user_defs": false,
   "report_style_numbering": false,
   "user_envs_cfg": false
  },
  "nteract": {
   "version": "0.8.4"
  },
  "toc": {
   "base_numbering": 1,
   "nav_menu": {},
   "number_sections": true,
   "sideBar": true,
   "skip_h1_title": false,
   "title_cell": "Table of Contents",
   "title_sidebar": "Contents",
   "toc_cell": false,
   "toc_position": {},
   "toc_section_display": true,
   "toc_window_display": false
  }
 },
 "nbformat": 4,
 "nbformat_minor": 1
}
